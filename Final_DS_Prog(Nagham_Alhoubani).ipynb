{
  "nbformat": 4,
  "nbformat_minor": 0,
  "metadata": {
    "colab": {
      "provenance": [],
      "toc_visible": true
    },
    "kernelspec": {
      "name": "python3",
      "display_name": "Python 3"
    },
    "language_info": {
      "name": "python"
    }
  },
  "cells": [
    {
      "cell_type": "markdown",
      "source": [
        "# **preprocessing the data**"
      ],
      "metadata": {
        "id": "oc0vgHqfu9dP"
      }
    },
    {
      "cell_type": "markdown",
      "source": [
        "### **load data**"
      ],
      "metadata": {
        "id": "259qOUFd_uNA"
      }
    },
    {
      "cell_type": "code",
      "source": [
        "import numpy as np\n",
        "import pandas as pd\n",
        "import matplotlib.pyplot as plt\n",
        "from sklearn.model_selection import train_test_split\n",
        "from sklearn.neighbors import KNeighborsClassifier\n",
        "from sklearn.linear_model import LogisticRegression\n",
        "from sklearn.tree import DecisionTreeClassifier\n",
        "from sklearn.naive_bayes import GaussianNB\n",
        "from sklearn.metrics import accuracy_score, recall_score, precision_score, f1_score\n",
        "from sklearn import preprocessing\n",
        "from sklearn import tree"
      ],
      "metadata": {
        "id": "qxTwzt-Ka82u"
      },
      "execution_count": 1,
      "outputs": []
    },
    {
      "cell_type": "code",
      "execution_count": 2,
      "metadata": {
        "id": "sCSqqJiw05AP"
      },
      "outputs": [],
      "source": [
        "#load the dataset\n",
        "data = pd.read_csv('/content/drive/MyDrive/Complaints(2).csv')"
      ]
    },
    {
      "cell_type": "code",
      "source": [
        "#examine the data\n",
        "data.head(10)"
      ],
      "metadata": {
        "id": "6_YxeuUwiJxi",
        "colab": {
          "base_uri": "https://localhost:8080/",
          "height": 647
        },
        "outputId": "fd9b25b3-3036-4a13-bc3f-d608da343b95"
      },
      "execution_count": 3,
      "outputs": [
        {
          "output_type": "execute_result",
          "data": {
            "text/plain": [
              "              CASE_ID       OFFER_NAME CUSTOMER_TYPE    CUSTOMER_GROUP  \\\n",
              "0  CAS-1060890-L3D6Q6        FTTH Home           CBU         FTTH Home   \n",
              "1   CAS-388567-W4B9Q3              NaN           CBU               NaN   \n",
              "2  CAS-1494939-L9F0X7   Bitstream Home           CBU  Wanadoo-ADSL-Res   \n",
              "3  CAS-1059985-K3Y9F7        FTTH Home           CBU         FTTH Home   \n",
              "4  CAS-1239942-Y1S2F5        FTTH Home           CBU         FTTH Home   \n",
              "5   CAS-715425-V1C0Z7  Eagle Army Cell           CBU           Prepaid   \n",
              "6   CAS-515407-M8K8P2        FTTH Home           CBU         FTTH Home   \n",
              "7  CAS-1402363-R0K4K0              NaN           CBU               NaN   \n",
              "8  CAS-1854074-P7M0Q4   Bitstream Home           CBU  Wanadoo-ADSL-Res   \n",
              "9   CAS-559405-J7W1N9   FTTB Corporate           EBU    FTTB Corporate   \n",
              "\n",
              "  CURRENT_STATUS ESCALATION_FLAG ESCALATED_GROUP         OPEN_DATE  \\\n",
              "0       Resolved             Yes          F&I_BO  19.06.2022 06:07   \n",
              "1       Resolved             Yes       Mobile_BO  04.04.2022 14:11   \n",
              "2       Resolved              No             NaN  03.08.2022 03:20   \n",
              "3       Resolved              No             NaN  18.06.2022 20:38   \n",
              "4       Resolved              No             NaN  06.07.2022 01:22   \n",
              "5       Resolved             Yes       Mobile_BO   5/13/2022 14:11   \n",
              "6       Resolved              No             NaN  19.04.2022 13:54   \n",
              "7       Resolved             Yes       Mobile_BO  25.07.2022 03:09   \n",
              "8       Resolved              No             NaN  12.09.2022 09:30   \n",
              "9       Resolved              No             NaN  24.04.2022 11:29   \n",
              "\n",
              "     OPEN_USER        CLOSE_DATE  ... AGE_BRACKET      ACTUAL_COMPLAINT  \\\n",
              "0         DANA  21.06.2022 13:41  ...         2.0      Actual Complaint   \n",
              "1  TCRMService  05.04.2022 12:13  ...         1.0  Not Actual Complaint   \n",
              "2       MOUTAZ  03.08.2022 03:20  ...         1.0       User Not Filled   \n",
              "3        MOATH  18.06.2022 20:38  ...         1.0       User Not Filled   \n",
              "4      IBRAHIM  06.07.2022 01:22  ...         1.0       User Not Filled   \n",
              "5         IMAN    5/18/2022 6:20  ...         4.0      Actual Complaint   \n",
              "6        AYMAN  19.04.2022 13:54  ...         1.0       User Not Filled   \n",
              "7  TCRMService  27.07.2022 17:58  ...         2.0      Actual Complaint   \n",
              "8         NOOR  12.09.2022 09:30  ...         1.0       User Not Filled   \n",
              "9      YASMEEN  24.04.2022 11:29  ...         1.0       User Not Filled   \n",
              "\n",
              "   CALLBACK_MECHANISM RESOLUTION RESOLUTION_DESCRIPTION CASE_DESC  \\\n",
              "0               Phone        NaN                    NaN       NaN   \n",
              "1               Phone        NaN                    NaN       NaN   \n",
              "2                 NaN        NaN                    NaN       NaN   \n",
              "3                 NaN        NaN                    NaN       NaN   \n",
              "4                 NaN        NaN                    NaN       NaN   \n",
              "5               Phone        NaN                    NaN       NaN   \n",
              "6                 NaN        NaN                    NaN       NaN   \n",
              "7               Phone        NaN                    NaN       NaN   \n",
              "8                 NaN        NaN                    NaN       NaN   \n",
              "9                 NaN        NaN                    NaN       NaN   \n",
              "\n",
              "                     OPEN_GR COMPLAINT_TYPE   PRODUCT                 CASE  \n",
              "0  CBU / EBU - personal view      Technical  Internet  Technical complaint  \n",
              "1       System Administrator     Commercial    Mobile     Commercial claim  \n",
              "2      CBU - CC 1st Layer A       Technical  Internet  Technical complaint  \n",
              "3                        NaN      Technical  Internet  Technical complaint  \n",
              "4      CBU - CC 1st Layer A       Technical  Internet  Technical complaint  \n",
              "5       CBU - CC 1st Layer        Technical    Mobile             OM_CLAIM  \n",
              "6        CBU - CC 2nd Layers      Technical  Internet  Technical complaint  \n",
              "7       System Administrator     Commercial    Mobile     Commercial claim  \n",
              "8                        NaN      Technical  Internet  Technical complaint  \n",
              "9      CBU - CC 1st Layer A       Technical  Internet  Technical complaint  \n",
              "\n",
              "[10 rows x 22 columns]"
            ],
            "text/html": [
              "\n",
              "  <div id=\"df-fe0b50de-8bd9-4afb-9a43-bae1146ab341\">\n",
              "    <div class=\"colab-df-container\">\n",
              "      <div>\n",
              "<style scoped>\n",
              "    .dataframe tbody tr th:only-of-type {\n",
              "        vertical-align: middle;\n",
              "    }\n",
              "\n",
              "    .dataframe tbody tr th {\n",
              "        vertical-align: top;\n",
              "    }\n",
              "\n",
              "    .dataframe thead th {\n",
              "        text-align: right;\n",
              "    }\n",
              "</style>\n",
              "<table border=\"1\" class=\"dataframe\">\n",
              "  <thead>\n",
              "    <tr style=\"text-align: right;\">\n",
              "      <th></th>\n",
              "      <th>CASE_ID</th>\n",
              "      <th>OFFER_NAME</th>\n",
              "      <th>CUSTOMER_TYPE</th>\n",
              "      <th>CUSTOMER_GROUP</th>\n",
              "      <th>CURRENT_STATUS</th>\n",
              "      <th>ESCALATION_FLAG</th>\n",
              "      <th>ESCALATED_GROUP</th>\n",
              "      <th>OPEN_DATE</th>\n",
              "      <th>OPEN_USER</th>\n",
              "      <th>CLOSE_DATE</th>\n",
              "      <th>...</th>\n",
              "      <th>AGE_BRACKET</th>\n",
              "      <th>ACTUAL_COMPLAINT</th>\n",
              "      <th>CALLBACK_MECHANISM</th>\n",
              "      <th>RESOLUTION</th>\n",
              "      <th>RESOLUTION_DESCRIPTION</th>\n",
              "      <th>CASE_DESC</th>\n",
              "      <th>OPEN_GR</th>\n",
              "      <th>COMPLAINT_TYPE</th>\n",
              "      <th>PRODUCT</th>\n",
              "      <th>CASE</th>\n",
              "    </tr>\n",
              "  </thead>\n",
              "  <tbody>\n",
              "    <tr>\n",
              "      <th>0</th>\n",
              "      <td>CAS-1060890-L3D6Q6</td>\n",
              "      <td>FTTH Home</td>\n",
              "      <td>CBU</td>\n",
              "      <td>FTTH Home</td>\n",
              "      <td>Resolved</td>\n",
              "      <td>Yes</td>\n",
              "      <td>F&amp;I_BO</td>\n",
              "      <td>19.06.2022 06:07</td>\n",
              "      <td>DANA</td>\n",
              "      <td>21.06.2022 13:41</td>\n",
              "      <td>...</td>\n",
              "      <td>2.0</td>\n",
              "      <td>Actual Complaint</td>\n",
              "      <td>Phone</td>\n",
              "      <td>NaN</td>\n",
              "      <td>NaN</td>\n",
              "      <td>NaN</td>\n",
              "      <td>CBU / EBU - personal view</td>\n",
              "      <td>Technical</td>\n",
              "      <td>Internet</td>\n",
              "      <td>Technical complaint</td>\n",
              "    </tr>\n",
              "    <tr>\n",
              "      <th>1</th>\n",
              "      <td>CAS-388567-W4B9Q3</td>\n",
              "      <td>NaN</td>\n",
              "      <td>CBU</td>\n",
              "      <td>NaN</td>\n",
              "      <td>Resolved</td>\n",
              "      <td>Yes</td>\n",
              "      <td>Mobile_BO</td>\n",
              "      <td>04.04.2022 14:11</td>\n",
              "      <td>TCRMService</td>\n",
              "      <td>05.04.2022 12:13</td>\n",
              "      <td>...</td>\n",
              "      <td>1.0</td>\n",
              "      <td>Not Actual Complaint</td>\n",
              "      <td>Phone</td>\n",
              "      <td>NaN</td>\n",
              "      <td>NaN</td>\n",
              "      <td>NaN</td>\n",
              "      <td>System Administrator</td>\n",
              "      <td>Commercial</td>\n",
              "      <td>Mobile</td>\n",
              "      <td>Commercial claim</td>\n",
              "    </tr>\n",
              "    <tr>\n",
              "      <th>2</th>\n",
              "      <td>CAS-1494939-L9F0X7</td>\n",
              "      <td>Bitstream Home</td>\n",
              "      <td>CBU</td>\n",
              "      <td>Wanadoo-ADSL-Res</td>\n",
              "      <td>Resolved</td>\n",
              "      <td>No</td>\n",
              "      <td>NaN</td>\n",
              "      <td>03.08.2022 03:20</td>\n",
              "      <td>MOUTAZ</td>\n",
              "      <td>03.08.2022 03:20</td>\n",
              "      <td>...</td>\n",
              "      <td>1.0</td>\n",
              "      <td>User Not Filled</td>\n",
              "      <td>NaN</td>\n",
              "      <td>NaN</td>\n",
              "      <td>NaN</td>\n",
              "      <td>NaN</td>\n",
              "      <td>CBU - CC 1st Layer A</td>\n",
              "      <td>Technical</td>\n",
              "      <td>Internet</td>\n",
              "      <td>Technical complaint</td>\n",
              "    </tr>\n",
              "    <tr>\n",
              "      <th>3</th>\n",
              "      <td>CAS-1059985-K3Y9F7</td>\n",
              "      <td>FTTH Home</td>\n",
              "      <td>CBU</td>\n",
              "      <td>FTTH Home</td>\n",
              "      <td>Resolved</td>\n",
              "      <td>No</td>\n",
              "      <td>NaN</td>\n",
              "      <td>18.06.2022 20:38</td>\n",
              "      <td>MOATH</td>\n",
              "      <td>18.06.2022 20:38</td>\n",
              "      <td>...</td>\n",
              "      <td>1.0</td>\n",
              "      <td>User Not Filled</td>\n",
              "      <td>NaN</td>\n",
              "      <td>NaN</td>\n",
              "      <td>NaN</td>\n",
              "      <td>NaN</td>\n",
              "      <td>NaN</td>\n",
              "      <td>Technical</td>\n",
              "      <td>Internet</td>\n",
              "      <td>Technical complaint</td>\n",
              "    </tr>\n",
              "    <tr>\n",
              "      <th>4</th>\n",
              "      <td>CAS-1239942-Y1S2F5</td>\n",
              "      <td>FTTH Home</td>\n",
              "      <td>CBU</td>\n",
              "      <td>FTTH Home</td>\n",
              "      <td>Resolved</td>\n",
              "      <td>No</td>\n",
              "      <td>NaN</td>\n",
              "      <td>06.07.2022 01:22</td>\n",
              "      <td>IBRAHIM</td>\n",
              "      <td>06.07.2022 01:22</td>\n",
              "      <td>...</td>\n",
              "      <td>1.0</td>\n",
              "      <td>User Not Filled</td>\n",
              "      <td>NaN</td>\n",
              "      <td>NaN</td>\n",
              "      <td>NaN</td>\n",
              "      <td>NaN</td>\n",
              "      <td>CBU - CC 1st Layer A</td>\n",
              "      <td>Technical</td>\n",
              "      <td>Internet</td>\n",
              "      <td>Technical complaint</td>\n",
              "    </tr>\n",
              "    <tr>\n",
              "      <th>5</th>\n",
              "      <td>CAS-715425-V1C0Z7</td>\n",
              "      <td>Eagle Army Cell</td>\n",
              "      <td>CBU</td>\n",
              "      <td>Prepaid</td>\n",
              "      <td>Resolved</td>\n",
              "      <td>Yes</td>\n",
              "      <td>Mobile_BO</td>\n",
              "      <td>5/13/2022 14:11</td>\n",
              "      <td>IMAN</td>\n",
              "      <td>5/18/2022 6:20</td>\n",
              "      <td>...</td>\n",
              "      <td>4.0</td>\n",
              "      <td>Actual Complaint</td>\n",
              "      <td>Phone</td>\n",
              "      <td>NaN</td>\n",
              "      <td>NaN</td>\n",
              "      <td>NaN</td>\n",
              "      <td>CBU - CC 1st Layer</td>\n",
              "      <td>Technical</td>\n",
              "      <td>Mobile</td>\n",
              "      <td>OM_CLAIM</td>\n",
              "    </tr>\n",
              "    <tr>\n",
              "      <th>6</th>\n",
              "      <td>CAS-515407-M8K8P2</td>\n",
              "      <td>FTTH Home</td>\n",
              "      <td>CBU</td>\n",
              "      <td>FTTH Home</td>\n",
              "      <td>Resolved</td>\n",
              "      <td>No</td>\n",
              "      <td>NaN</td>\n",
              "      <td>19.04.2022 13:54</td>\n",
              "      <td>AYMAN</td>\n",
              "      <td>19.04.2022 13:54</td>\n",
              "      <td>...</td>\n",
              "      <td>1.0</td>\n",
              "      <td>User Not Filled</td>\n",
              "      <td>NaN</td>\n",
              "      <td>NaN</td>\n",
              "      <td>NaN</td>\n",
              "      <td>NaN</td>\n",
              "      <td>CBU - CC 2nd Layers</td>\n",
              "      <td>Technical</td>\n",
              "      <td>Internet</td>\n",
              "      <td>Technical complaint</td>\n",
              "    </tr>\n",
              "    <tr>\n",
              "      <th>7</th>\n",
              "      <td>CAS-1402363-R0K4K0</td>\n",
              "      <td>NaN</td>\n",
              "      <td>CBU</td>\n",
              "      <td>NaN</td>\n",
              "      <td>Resolved</td>\n",
              "      <td>Yes</td>\n",
              "      <td>Mobile_BO</td>\n",
              "      <td>25.07.2022 03:09</td>\n",
              "      <td>TCRMService</td>\n",
              "      <td>27.07.2022 17:58</td>\n",
              "      <td>...</td>\n",
              "      <td>2.0</td>\n",
              "      <td>Actual Complaint</td>\n",
              "      <td>Phone</td>\n",
              "      <td>NaN</td>\n",
              "      <td>NaN</td>\n",
              "      <td>NaN</td>\n",
              "      <td>System Administrator</td>\n",
              "      <td>Commercial</td>\n",
              "      <td>Mobile</td>\n",
              "      <td>Commercial claim</td>\n",
              "    </tr>\n",
              "    <tr>\n",
              "      <th>8</th>\n",
              "      <td>CAS-1854074-P7M0Q4</td>\n",
              "      <td>Bitstream Home</td>\n",
              "      <td>CBU</td>\n",
              "      <td>Wanadoo-ADSL-Res</td>\n",
              "      <td>Resolved</td>\n",
              "      <td>No</td>\n",
              "      <td>NaN</td>\n",
              "      <td>12.09.2022 09:30</td>\n",
              "      <td>NOOR</td>\n",
              "      <td>12.09.2022 09:30</td>\n",
              "      <td>...</td>\n",
              "      <td>1.0</td>\n",
              "      <td>User Not Filled</td>\n",
              "      <td>NaN</td>\n",
              "      <td>NaN</td>\n",
              "      <td>NaN</td>\n",
              "      <td>NaN</td>\n",
              "      <td>NaN</td>\n",
              "      <td>Technical</td>\n",
              "      <td>Internet</td>\n",
              "      <td>Technical complaint</td>\n",
              "    </tr>\n",
              "    <tr>\n",
              "      <th>9</th>\n",
              "      <td>CAS-559405-J7W1N9</td>\n",
              "      <td>FTTB Corporate</td>\n",
              "      <td>EBU</td>\n",
              "      <td>FTTB Corporate</td>\n",
              "      <td>Resolved</td>\n",
              "      <td>No</td>\n",
              "      <td>NaN</td>\n",
              "      <td>24.04.2022 11:29</td>\n",
              "      <td>YASMEEN</td>\n",
              "      <td>24.04.2022 11:29</td>\n",
              "      <td>...</td>\n",
              "      <td>1.0</td>\n",
              "      <td>User Not Filled</td>\n",
              "      <td>NaN</td>\n",
              "      <td>NaN</td>\n",
              "      <td>NaN</td>\n",
              "      <td>NaN</td>\n",
              "      <td>CBU - CC 1st Layer A</td>\n",
              "      <td>Technical</td>\n",
              "      <td>Internet</td>\n",
              "      <td>Technical complaint</td>\n",
              "    </tr>\n",
              "  </tbody>\n",
              "</table>\n",
              "<p>10 rows × 22 columns</p>\n",
              "</div>\n",
              "      <button class=\"colab-df-convert\" onclick=\"convertToInteractive('df-fe0b50de-8bd9-4afb-9a43-bae1146ab341')\"\n",
              "              title=\"Convert this dataframe to an interactive table.\"\n",
              "              style=\"display:none;\">\n",
              "        \n",
              "  <svg xmlns=\"http://www.w3.org/2000/svg\" height=\"24px\"viewBox=\"0 0 24 24\"\n",
              "       width=\"24px\">\n",
              "    <path d=\"M0 0h24v24H0V0z\" fill=\"none\"/>\n",
              "    <path d=\"M18.56 5.44l.94 2.06.94-2.06 2.06-.94-2.06-.94-.94-2.06-.94 2.06-2.06.94zm-11 1L8.5 8.5l.94-2.06 2.06-.94-2.06-.94L8.5 2.5l-.94 2.06-2.06.94zm10 10l.94 2.06.94-2.06 2.06-.94-2.06-.94-.94-2.06-.94 2.06-2.06.94z\"/><path d=\"M17.41 7.96l-1.37-1.37c-.4-.4-.92-.59-1.43-.59-.52 0-1.04.2-1.43.59L10.3 9.45l-7.72 7.72c-.78.78-.78 2.05 0 2.83L4 21.41c.39.39.9.59 1.41.59.51 0 1.02-.2 1.41-.59l7.78-7.78 2.81-2.81c.8-.78.8-2.07 0-2.86zM5.41 20L4 18.59l7.72-7.72 1.47 1.35L5.41 20z\"/>\n",
              "  </svg>\n",
              "      </button>\n",
              "      \n",
              "  <style>\n",
              "    .colab-df-container {\n",
              "      display:flex;\n",
              "      flex-wrap:wrap;\n",
              "      gap: 12px;\n",
              "    }\n",
              "\n",
              "    .colab-df-convert {\n",
              "      background-color: #E8F0FE;\n",
              "      border: none;\n",
              "      border-radius: 50%;\n",
              "      cursor: pointer;\n",
              "      display: none;\n",
              "      fill: #1967D2;\n",
              "      height: 32px;\n",
              "      padding: 0 0 0 0;\n",
              "      width: 32px;\n",
              "    }\n",
              "\n",
              "    .colab-df-convert:hover {\n",
              "      background-color: #E2EBFA;\n",
              "      box-shadow: 0px 1px 2px rgba(60, 64, 67, 0.3), 0px 1px 3px 1px rgba(60, 64, 67, 0.15);\n",
              "      fill: #174EA6;\n",
              "    }\n",
              "\n",
              "    [theme=dark] .colab-df-convert {\n",
              "      background-color: #3B4455;\n",
              "      fill: #D2E3FC;\n",
              "    }\n",
              "\n",
              "    [theme=dark] .colab-df-convert:hover {\n",
              "      background-color: #434B5C;\n",
              "      box-shadow: 0px 1px 3px 1px rgba(0, 0, 0, 0.15);\n",
              "      filter: drop-shadow(0px 1px 2px rgba(0, 0, 0, 0.3));\n",
              "      fill: #FFFFFF;\n",
              "    }\n",
              "  </style>\n",
              "\n",
              "      <script>\n",
              "        const buttonEl =\n",
              "          document.querySelector('#df-fe0b50de-8bd9-4afb-9a43-bae1146ab341 button.colab-df-convert');\n",
              "        buttonEl.style.display =\n",
              "          google.colab.kernel.accessAllowed ? 'block' : 'none';\n",
              "\n",
              "        async function convertToInteractive(key) {\n",
              "          const element = document.querySelector('#df-fe0b50de-8bd9-4afb-9a43-bae1146ab341');\n",
              "          const dataTable =\n",
              "            await google.colab.kernel.invokeFunction('convertToInteractive',\n",
              "                                                     [key], {});\n",
              "          if (!dataTable) return;\n",
              "\n",
              "          const docLinkHtml = 'Like what you see? Visit the ' +\n",
              "            '<a target=\"_blank\" href=https://colab.research.google.com/notebooks/data_table.ipynb>data table notebook</a>'\n",
              "            + ' to learn more about interactive tables.';\n",
              "          element.innerHTML = '';\n",
              "          dataTable['output_type'] = 'display_data';\n",
              "          await google.colab.output.renderOutput(dataTable, element);\n",
              "          const docLink = document.createElement('div');\n",
              "          docLink.innerHTML = docLinkHtml;\n",
              "          element.appendChild(docLink);\n",
              "        }\n",
              "      </script>\n",
              "    </div>\n",
              "  </div>\n",
              "  "
            ]
          },
          "metadata": {},
          "execution_count": 3
        }
      ]
    },
    {
      "cell_type": "code",
      "source": [
        "#check number of rows, cols and dtypes\n",
        "data.info()"
      ],
      "metadata": {
        "id": "jjSr7v8ZiEqg",
        "colab": {
          "base_uri": "https://localhost:8080/"
        },
        "outputId": "3d9e9497-e28e-4b2a-ddd3-2d728abb0901"
      },
      "execution_count": 4,
      "outputs": [
        {
          "output_type": "stream",
          "name": "stdout",
          "text": [
            "<class 'pandas.core.frame.DataFrame'>\n",
            "RangeIndex: 10415 entries, 0 to 10414\n",
            "Data columns (total 22 columns):\n",
            " #   Column                  Non-Null Count  Dtype  \n",
            "---  ------                  --------------  -----  \n",
            " 0   CASE_ID                 10415 non-null  object \n",
            " 1   OFFER_NAME              9122 non-null   object \n",
            " 2   CUSTOMER_TYPE           10415 non-null  object \n",
            " 3   CUSTOMER_GROUP          9067 non-null   object \n",
            " 4   CURRENT_STATUS          10415 non-null  object \n",
            " 5   ESCALATION_FLAG         10415 non-null  object \n",
            " 6   ESCALATED_GROUP         3360 non-null   object \n",
            " 7   OPEN_DATE               10415 non-null  object \n",
            " 8   OPEN_USER               10053 non-null  object \n",
            " 9   CLOSE_DATE              10296 non-null  object \n",
            " 10  CLOSE_GROUP             5525 non-null   object \n",
            " 11  CLOSE_USER              9899 non-null   object \n",
            " 12  AGE_BRACKET             10296 non-null  float64\n",
            " 13  ACTUAL_COMPLAINT        10415 non-null  object \n",
            " 14  CALLBACK_MECHANISM      3138 non-null   object \n",
            " 15  RESOLUTION              79 non-null     object \n",
            " 16  RESOLUTION_DESCRIPTION  39 non-null     object \n",
            " 17  CASE_DESC               1172 non-null   object \n",
            " 18  OPEN_GR                 5854 non-null   object \n",
            " 19  COMPLAINT_TYPE          10415 non-null  object \n",
            " 20  PRODUCT                 10415 non-null  object \n",
            " 21  CASE                    10415 non-null  object \n",
            "dtypes: float64(1), object(21)\n",
            "memory usage: 1.7+ MB\n"
          ]
        }
      ]
    },
    {
      "cell_type": "markdown",
      "source": [
        "### **check the null values**"
      ],
      "metadata": {
        "id": "mnXx_YwTTY8Z"
      }
    },
    {
      "cell_type": "code",
      "source": [
        "data.isnull().sum()"
      ],
      "metadata": {
        "colab": {
          "base_uri": "https://localhost:8080/"
        },
        "id": "XBP6XyCs366W",
        "outputId": "8776a385-b377-4ffa-9392-b5cef95b0301"
      },
      "execution_count": 5,
      "outputs": [
        {
          "output_type": "execute_result",
          "data": {
            "text/plain": [
              "CASE_ID                       0\n",
              "OFFER_NAME                 1293\n",
              "CUSTOMER_TYPE                 0\n",
              "CUSTOMER_GROUP             1348\n",
              "CURRENT_STATUS                0\n",
              "ESCALATION_FLAG               0\n",
              "ESCALATED_GROUP            7055\n",
              "OPEN_DATE                     0\n",
              "OPEN_USER                   362\n",
              "CLOSE_DATE                  119\n",
              "CLOSE_GROUP                4890\n",
              "CLOSE_USER                  516\n",
              "AGE_BRACKET                 119\n",
              "ACTUAL_COMPLAINT              0\n",
              "CALLBACK_MECHANISM         7277\n",
              "RESOLUTION                10336\n",
              "RESOLUTION_DESCRIPTION    10376\n",
              "CASE_DESC                  9243\n",
              "OPEN_GR                    4561\n",
              "COMPLAINT_TYPE                0\n",
              "PRODUCT                       0\n",
              "CASE                          0\n",
              "dtype: int64"
            ]
          },
          "metadata": {},
          "execution_count": 5
        }
      ]
    },
    {
      "cell_type": "markdown",
      "source": [
        "###**drop the obstacle columns**"
      ],
      "metadata": {
        "id": "glvrbWIlT0gs"
      }
    },
    {
      "cell_type": "code",
      "source": [
        "# ill drop these columns due to the fact that they are almost all null values \n",
        "# and the case id will get in the way of the preprocessing so ill drop it too\n",
        "data.drop('CALLBACK_MECHANISM', inplace=True, axis=1)\n",
        "data.drop('RESOLUTION', inplace=True, axis=1)\n",
        "data.drop('RESOLUTION_DESCRIPTION', inplace=True, axis=1)\n",
        "data.drop('CASE_DESC', inplace=True, axis=1)\n",
        "data.drop('CASE_ID', inplace=True, axis=1)"
      ],
      "metadata": {
        "id": "xNGDY_-woHNr"
      },
      "execution_count": 6,
      "outputs": []
    },
    {
      "cell_type": "markdown",
      "source": [
        "###**start filling the null values**"
      ],
      "metadata": {
        "id": "bzqG-Kk-T32G"
      }
    },
    {
      "cell_type": "code",
      "source": [
        "# ill fill offer name and customer group as unknown because there is no way to\n",
        "# accuratly extract the values\n",
        "data['OFFER_NAME'].fillna('unknown', inplace=True)\n",
        "data['CUSTOMER_GROUP'].fillna('unknown', inplace=True)"
      ],
      "metadata": {
        "id": "0vOSf02phu5C"
      },
      "execution_count": 7,
      "outputs": []
    },
    {
      "cell_type": "code",
      "source": [
        "#ill check all the values of the age bracket to find an appropriate way to fill the null\n",
        "print(data.describe())\n",
        "# since the median and 75% quartile were 1 filled the age bracket with the median which is 1\n",
        "data['AGE_BRACKET'].fillna(data['AGE_BRACKET'].median(),inplace=True)"
      ],
      "metadata": {
        "colab": {
          "base_uri": "https://localhost:8080/"
        },
        "id": "R9eHsSdHXG7-",
        "outputId": "b41400c8-979f-42e8-c3b6-c7bf7219b631"
      },
      "execution_count": 8,
      "outputs": [
        {
          "output_type": "stream",
          "name": "stdout",
          "text": [
            "        AGE_BRACKET\n",
            "count  10296.000000\n",
            "mean       1.503302\n",
            "std        2.978144\n",
            "min        1.000000\n",
            "25%        1.000000\n",
            "50%        1.000000\n",
            "75%        1.000000\n",
            "max      116.000000\n"
          ]
        }
      ]
    },
    {
      "cell_type": "code",
      "source": [
        "# check the duplicates\n",
        "data.duplicated().sum()"
      ],
      "metadata": {
        "colab": {
          "base_uri": "https://localhost:8080/"
        },
        "id": "Y3BGkp_dRiW-",
        "outputId": "3da5b24f-c1f1-425a-a26d-fe57c0872c8e"
      },
      "execution_count": 9,
      "outputs": [
        {
          "output_type": "execute_result",
          "data": {
            "text/plain": [
              "11"
            ]
          },
          "metadata": {},
          "execution_count": 9
        }
      ]
    },
    {
      "cell_type": "code",
      "source": [
        "#while doing some trial and errors i discovered that the data set has duplicated rows so ill drop them\n",
        "# from 10415 rows to 10404 rows\n",
        "data.drop_duplicates(inplace=True)"
      ],
      "metadata": {
        "id": "ykMlXLiOYej4"
      },
      "execution_count": 10,
      "outputs": []
    },
    {
      "cell_type": "code",
      "source": [
        "# when i tried to change the open date from str to date an error occured where\n",
        "# they were faced with values that arent dates so ill drop their rows (19 rows)\n",
        "# then ill reset the index of the rows\n",
        "wrong_dates = data[data['OPEN_DATE'].str.startswith('44')].index\n",
        "data.drop(wrong_dates, inplace = True)\n",
        "\n",
        "# then reset the index so i can complete the data preprocessing correctly\n",
        "data.reset_index(drop=True, inplace=True)"
      ],
      "metadata": {
        "id": "5abOsgqHXu1Q"
      },
      "execution_count": 11,
      "outputs": []
    },
    {
      "cell_type": "code",
      "source": [
        "# now we switch the values in the date columns to actual date values\n",
        "data['OPEN_DATE'] = pd.to_datetime(data['OPEN_DATE'])\n",
        "data['CLOSE_DATE'] = pd.to_datetime(data['CLOSE_DATE'])"
      ],
      "metadata": {
        "id": "8JWa2JvBlsyU"
      },
      "execution_count": 12,
      "outputs": []
    },
    {
      "cell_type": "code",
      "source": [
        "# i noticed a lot of the closing data are wrong so ill add the open date and\n",
        "# age bracket to find all the closing date values\n",
        "for x in range(len(data)):\n",
        "  data['CLOSE_DATE'][x] = data['OPEN_DATE'][x] + pd.to_timedelta(data['AGE_BRACKET'][x], unit='D')"
      ],
      "metadata": {
        "id": "9ejoeso1QMoO",
        "colab": {
          "base_uri": "https://localhost:8080/"
        },
        "outputId": "ede05f19-2c06-4cd0-ec53-9bf88f00d88a"
      },
      "execution_count": 13,
      "outputs": [
        {
          "output_type": "stream",
          "name": "stderr",
          "text": [
            "<ipython-input-13-394a78e8ba1b>:4: SettingWithCopyWarning: \n",
            "A value is trying to be set on a copy of a slice from a DataFrame\n",
            "\n",
            "See the caveats in the documentation: https://pandas.pydata.org/pandas-docs/stable/user_guide/indexing.html#returning-a-view-versus-a-copy\n",
            "  data['CLOSE_DATE'][x] = data['OPEN_DATE'][x] + pd.to_timedelta(data['AGE_BRACKET'][x], unit='D')\n"
          ]
        }
      ]
    },
    {
      "cell_type": "code",
      "source": [
        "data.isnull().sum()"
      ],
      "metadata": {
        "colab": {
          "base_uri": "https://localhost:8080/"
        },
        "id": "j6mdCcXSrHYW",
        "outputId": "27a38a2c-1551-4bbd-8b7d-b04624f6a24f"
      },
      "execution_count": 14,
      "outputs": [
        {
          "output_type": "execute_result",
          "data": {
            "text/plain": [
              "OFFER_NAME             0\n",
              "CUSTOMER_TYPE          0\n",
              "CUSTOMER_GROUP         0\n",
              "CURRENT_STATUS         0\n",
              "ESCALATION_FLAG        0\n",
              "ESCALATED_GROUP     7047\n",
              "OPEN_DATE              0\n",
              "OPEN_USER            362\n",
              "CLOSE_DATE             0\n",
              "CLOSE_GROUP         4887\n",
              "CLOSE_USER           516\n",
              "AGE_BRACKET            0\n",
              "ACTUAL_COMPLAINT       0\n",
              "OPEN_GR             4558\n",
              "COMPLAINT_TYPE         0\n",
              "PRODUCT                0\n",
              "CASE                   0\n",
              "dtype: int64"
            ]
          },
          "metadata": {},
          "execution_count": 14
        }
      ]
    },
    {
      "cell_type": "code",
      "source": [
        "# create a flagging system to see if the value of the escalation flag was yes or no\n",
        "# then use that to create an indexing system to find precicely which rows were\n",
        "# yes and which were no and based on that fill the null escalation group values\n",
        "\n",
        "flag = data['ESCALATION_FLAG'].isin(['No'])\n",
        "flag_null = data['ESCALATED_GROUP'].isnull()\n",
        "flag_closeGr_null = data['CLOSE_GROUP'].isnull()\n",
        "flag_openGr_null = data['OPEN_GR'].isnull()\n",
        "flag_closeUSR_null = data['CLOSE_USER'].isnull()\n",
        "flag_openUSR_null = data['OPEN_USER'].isnull()\n",
        "\n",
        "flag1 = list(flag) # true if flag is no\n",
        "flag2 = list(flag_null) # true if esc gr null\n",
        "flag3 = list(flag_closeGr_null) # true if close gr null\n",
        "flag4 = list(flag_openGr_null) # true if open gr null\n",
        "flag5 = list(flag_closeUSR_null) # true if close usr null\n",
        "flag6 = list(flag_openUSR_null) # true if open usr null\n",
        "\n",
        "list1 = [] # list of indixes that had a no flag \n",
        "list2=[] # list of close gr = open gr\n",
        "list3=[] # list of open grb = close gr\n",
        "list4 = [] # list of open grp and close grp are unknown\n",
        "list5 = [] # list of close user = open user \n",
        "list6 = [] # list of open user unknown\n",
        "list7 = [] # list of close usr unknown\n",
        "list8 = [] # list of close grb = esc grp \n",
        "list9 = [] # list of esc grp = close grp\n",
        "list10 = [] # list of esc grp and close grp are unknown\n",
        "list11 = [] # list of open grp that are unknown\n",
        "\n",
        "for x in range(len(flag1)):\n",
        "\n",
        "  if flag1[x] is True:  # if the esc flag is no\n",
        "    \n",
        "    #turn esc groups with these indexes into \"Not Escalated\"\n",
        "    list1.append(x)\n",
        "\n",
        "    if flag4[x] is False: # checks if open grp isnt null\n",
        "      list2.append(x)\n",
        "\n",
        "    else:    # if open grp is null\n",
        "      if flag3[x] is False:   # checks if close grp isnt null\n",
        "        list3.append(x)\n",
        "      else:\n",
        "        list4.append(x)\n",
        "\n",
        "    if flag6[x] is False: # checks if open user isnt null\n",
        "      list5.append(x)\n",
        "\n",
        "  else:  # if the esc flag is yes\n",
        "\n",
        "    if flag6[x] is True:   # checks if open usr is null\n",
        "      list6.append(x)\n",
        "\n",
        "    if flag5[x] is True: # checks if close usr is null\n",
        "      list7.append(x)\n",
        "\n",
        "    if flag2[x] is False: #checks that esc grp isnt null\n",
        "      list8.append(x)\n",
        "\n",
        "    else: #checks that esc grp is null\n",
        "      if flag3[x] is False: #checks that close grp isnt null\n",
        "        list9.append(x)\n",
        "      else:     # checks that close grp is null\n",
        "        list10.append(x)\n",
        "    \n",
        "    if flag4[x] is True:   # checks that open grp is null\n",
        "      list11.append(x)"
      ],
      "metadata": {
        "id": "XQWKh6v9fEDV"
      },
      "execution_count": 15,
      "outputs": []
    },
    {
      "cell_type": "code",
      "source": [
        "# to fill all the null non escalated groups\n",
        "for a in list1:\n",
        "  # reason i did all the esc grps is because there are instances where the flag\n",
        "  # is no but theres an esc grp which is wrong\n",
        "  data['ESCALATED_GROUP'][a] = 'Not Escalated'\n",
        "\n",
        "# to fill all the close grps that have no esc flag same as open grps\n",
        "for b in list2:\n",
        "  # reason i did all the close grps is because there are instances where the flag\n",
        "  # is no but theres a close grp that diff from the open which is wrong\n",
        "  data['CLOSE_GROUP'][b] = data['OPEN_GR'][b]\n",
        "\n",
        "# to fill all the null open grps that have no flag but have a close grp\n",
        "for c in list3:\n",
        "  data['OPEN_GR'][c] = data['CLOSE_GROUP'][c]\n",
        "\n",
        "# to fill all the null open usrs that have no flag but have a close usr\n",
        "for d in list4:\n",
        "  data['OPEN_GR'][d] = 'unknown'\n",
        "  data['CLOSE_GROUP'][d] = 'unknown'\n",
        "\n",
        "# to fill all the null open usrs and close users that have no flag\n",
        "for e in list5:\n",
        "  data['CLOSE_USER'][e] = data['OPEN_USER'][e]\n",
        "\n",
        "# to fill all the null open usrs and close usrs that dont have a flag\n",
        "for f in list6:\n",
        "  data['OPEN_USER'][f] = 'unknown'\n",
        "\n",
        "# to fill all the null close usrs that have a flag\n",
        "for g in list7:\n",
        "  data['CLOSE_USER'][g] = 'unknown'\n",
        "\n",
        "# to fill all the close grps that have a flag and have a esc grp\n",
        "for h in list8:\n",
        "  data['CLOSE_GROUP'][h] =data['ESCALATED_GROUP'][h]\n",
        "\n",
        "# to fill all the null esc grp that have a flag and have a close grp\n",
        "for i in list9:\n",
        "  data['ESCALATED_GROUP'][i] =data['CLOSE_GROUP'][i]\n",
        "\n",
        "# to fill all the null close grps and esc grps as unknown\n",
        "for j in list10:\n",
        "  data['ESCALATED_GROUP'][j] = 'unknown'\n",
        "  data['CLOSE_GROUP'][j] = 'unknown'\n",
        "\n",
        "# list of open grp that are unknown with yes flag\n",
        "for k in list11:\n",
        "  data['OPEN_GR'][k] = 'unknown'"
      ],
      "metadata": {
        "colab": {
          "base_uri": "https://localhost:8080/"
        },
        "id": "qed_Vi4NMYQX",
        "outputId": "ac53cb27-17d7-4207-d633-9f5f6baba73f"
      },
      "execution_count": 16,
      "outputs": [
        {
          "output_type": "stream",
          "name": "stderr",
          "text": [
            "<ipython-input-16-ec5a15c43dd2>:5: SettingWithCopyWarning: \n",
            "A value is trying to be set on a copy of a slice from a DataFrame\n",
            "\n",
            "See the caveats in the documentation: https://pandas.pydata.org/pandas-docs/stable/user_guide/indexing.html#returning-a-view-versus-a-copy\n",
            "  data['ESCALATED_GROUP'][a] = 'Not Escalated'\n",
            "<ipython-input-16-ec5a15c43dd2>:11: SettingWithCopyWarning: \n",
            "A value is trying to be set on a copy of a slice from a DataFrame\n",
            "\n",
            "See the caveats in the documentation: https://pandas.pydata.org/pandas-docs/stable/user_guide/indexing.html#returning-a-view-versus-a-copy\n",
            "  data['CLOSE_GROUP'][b] = data['OPEN_GR'][b]\n",
            "<ipython-input-16-ec5a15c43dd2>:15: SettingWithCopyWarning: \n",
            "A value is trying to be set on a copy of a slice from a DataFrame\n",
            "\n",
            "See the caveats in the documentation: https://pandas.pydata.org/pandas-docs/stable/user_guide/indexing.html#returning-a-view-versus-a-copy\n",
            "  data['OPEN_GR'][c] = data['CLOSE_GROUP'][c]\n",
            "<ipython-input-16-ec5a15c43dd2>:19: SettingWithCopyWarning: \n",
            "A value is trying to be set on a copy of a slice from a DataFrame\n",
            "\n",
            "See the caveats in the documentation: https://pandas.pydata.org/pandas-docs/stable/user_guide/indexing.html#returning-a-view-versus-a-copy\n",
            "  data['OPEN_GR'][d] = 'unknown'\n",
            "<ipython-input-16-ec5a15c43dd2>:20: SettingWithCopyWarning: \n",
            "A value is trying to be set on a copy of a slice from a DataFrame\n",
            "\n",
            "See the caveats in the documentation: https://pandas.pydata.org/pandas-docs/stable/user_guide/indexing.html#returning-a-view-versus-a-copy\n",
            "  data['CLOSE_GROUP'][d] = 'unknown'\n",
            "<ipython-input-16-ec5a15c43dd2>:24: SettingWithCopyWarning: \n",
            "A value is trying to be set on a copy of a slice from a DataFrame\n",
            "\n",
            "See the caveats in the documentation: https://pandas.pydata.org/pandas-docs/stable/user_guide/indexing.html#returning-a-view-versus-a-copy\n",
            "  data['CLOSE_USER'][e] = data['OPEN_USER'][e]\n",
            "<ipython-input-16-ec5a15c43dd2>:28: SettingWithCopyWarning: \n",
            "A value is trying to be set on a copy of a slice from a DataFrame\n",
            "\n",
            "See the caveats in the documentation: https://pandas.pydata.org/pandas-docs/stable/user_guide/indexing.html#returning-a-view-versus-a-copy\n",
            "  data['OPEN_USER'][f] = 'unknown'\n",
            "<ipython-input-16-ec5a15c43dd2>:32: SettingWithCopyWarning: \n",
            "A value is trying to be set on a copy of a slice from a DataFrame\n",
            "\n",
            "See the caveats in the documentation: https://pandas.pydata.org/pandas-docs/stable/user_guide/indexing.html#returning-a-view-versus-a-copy\n",
            "  data['CLOSE_USER'][g] = 'unknown'\n",
            "<ipython-input-16-ec5a15c43dd2>:36: SettingWithCopyWarning: \n",
            "A value is trying to be set on a copy of a slice from a DataFrame\n",
            "\n",
            "See the caveats in the documentation: https://pandas.pydata.org/pandas-docs/stable/user_guide/indexing.html#returning-a-view-versus-a-copy\n",
            "  data['CLOSE_GROUP'][h] =data['ESCALATED_GROUP'][h]\n",
            "<ipython-input-16-ec5a15c43dd2>:40: SettingWithCopyWarning: \n",
            "A value is trying to be set on a copy of a slice from a DataFrame\n",
            "\n",
            "See the caveats in the documentation: https://pandas.pydata.org/pandas-docs/stable/user_guide/indexing.html#returning-a-view-versus-a-copy\n",
            "  data['ESCALATED_GROUP'][i] =data['CLOSE_GROUP'][i]\n",
            "<ipython-input-16-ec5a15c43dd2>:44: SettingWithCopyWarning: \n",
            "A value is trying to be set on a copy of a slice from a DataFrame\n",
            "\n",
            "See the caveats in the documentation: https://pandas.pydata.org/pandas-docs/stable/user_guide/indexing.html#returning-a-view-versus-a-copy\n",
            "  data['ESCALATED_GROUP'][j] = 'unknown'\n",
            "<ipython-input-16-ec5a15c43dd2>:45: SettingWithCopyWarning: \n",
            "A value is trying to be set on a copy of a slice from a DataFrame\n",
            "\n",
            "See the caveats in the documentation: https://pandas.pydata.org/pandas-docs/stable/user_guide/indexing.html#returning-a-view-versus-a-copy\n",
            "  data['CLOSE_GROUP'][j] = 'unknown'\n",
            "<ipython-input-16-ec5a15c43dd2>:49: SettingWithCopyWarning: \n",
            "A value is trying to be set on a copy of a slice from a DataFrame\n",
            "\n",
            "See the caveats in the documentation: https://pandas.pydata.org/pandas-docs/stable/user_guide/indexing.html#returning-a-view-versus-a-copy\n",
            "  data['OPEN_GR'][k] = 'unknown'\n"
          ]
        }
      ]
    },
    {
      "cell_type": "code",
      "source": [
        "data.isnull().sum()"
      ],
      "metadata": {
        "colab": {
          "base_uri": "https://localhost:8080/"
        },
        "id": "3ZAK7WFXU25x",
        "outputId": "d7c5b648-fb2b-4aca-8ad1-9105a917566b"
      },
      "execution_count": 17,
      "outputs": [
        {
          "output_type": "execute_result",
          "data": {
            "text/plain": [
              "OFFER_NAME          0\n",
              "CUSTOMER_TYPE       0\n",
              "CUSTOMER_GROUP      0\n",
              "CURRENT_STATUS      0\n",
              "ESCALATION_FLAG     0\n",
              "ESCALATED_GROUP     0\n",
              "OPEN_DATE           0\n",
              "OPEN_USER           3\n",
              "CLOSE_DATE          0\n",
              "CLOSE_GROUP         0\n",
              "CLOSE_USER          3\n",
              "AGE_BRACKET         0\n",
              "ACTUAL_COMPLAINT    0\n",
              "OPEN_GR             0\n",
              "COMPLAINT_TYPE      0\n",
              "PRODUCT             0\n",
              "CASE                0\n",
              "dtype: int64"
            ]
          },
          "metadata": {},
          "execution_count": 17
        }
      ]
    },
    {
      "cell_type": "code",
      "source": [
        "# the last 3 null values of the close user and open user all exist on the same\n",
        "# rows in the no flag so we will fill them by unknown\n",
        "data[\"CLOSE_USER\"].fillna(\"Unknown\", inplace = True)\n",
        "data[\"OPEN_USER\"].fillna(\"Unknown\", inplace = True)"
      ],
      "metadata": {
        "id": "6J-WPz8vR5ce"
      },
      "execution_count": 18,
      "outputs": []
    },
    {
      "cell_type": "code",
      "source": [
        "data.isnull().sum()"
      ],
      "metadata": {
        "colab": {
          "base_uri": "https://localhost:8080/"
        },
        "id": "GYJPTFZnsW5A",
        "outputId": "684cd9a1-5da6-4d73-bf9c-6f2bc0db5221"
      },
      "execution_count": 19,
      "outputs": [
        {
          "output_type": "execute_result",
          "data": {
            "text/plain": [
              "OFFER_NAME          0\n",
              "CUSTOMER_TYPE       0\n",
              "CUSTOMER_GROUP      0\n",
              "CURRENT_STATUS      0\n",
              "ESCALATION_FLAG     0\n",
              "ESCALATED_GROUP     0\n",
              "OPEN_DATE           0\n",
              "OPEN_USER           0\n",
              "CLOSE_DATE          0\n",
              "CLOSE_GROUP         0\n",
              "CLOSE_USER          0\n",
              "AGE_BRACKET         0\n",
              "ACTUAL_COMPLAINT    0\n",
              "OPEN_GR             0\n",
              "COMPLAINT_TYPE      0\n",
              "PRODUCT             0\n",
              "CASE                0\n",
              "dtype: int64"
            ]
          },
          "metadata": {},
          "execution_count": 19
        }
      ]
    },
    {
      "cell_type": "code",
      "source": [
        "len(data)"
      ],
      "metadata": {
        "colab": {
          "base_uri": "https://localhost:8080/"
        },
        "id": "NsGNC3GPl8Fu",
        "outputId": "81a2c9dd-097d-4c31-cda1-5cf21e6e827c"
      },
      "execution_count": 20,
      "outputs": [
        {
          "output_type": "execute_result",
          "data": {
            "text/plain": [
              "10385"
            ]
          },
          "metadata": {},
          "execution_count": 20
        }
      ]
    },
    {
      "cell_type": "markdown",
      "source": [
        "# **Feature Engineering**"
      ],
      "metadata": {
        "id": "Oe1jDtajVXVN"
      }
    },
    {
      "cell_type": "code",
      "source": [
        "# remove all the unneeded/unrelated columns/ features\n",
        "\n",
        "data.drop(\"OPEN_DATE\", axis=1, inplace = True)\n",
        "data.drop(\"OPEN_USER\", axis=1,inplace = True)\n",
        "data.drop(\"CLOSE_USER\",axis=1, inplace = True)\n",
        "data.drop(\"OPEN_GR\", axis=1,inplace = True)\n",
        "data.drop(\"AGE_BRACKET\",axis=1, inplace = True)\n",
        "data.drop(\"CUSTOMER_TYPE\",axis=1, inplace = True)\n",
        "\n",
        "#data.drop(\"CLOSE_DATE\", axis=1,inplace = True) dont drop cus causes 7k dups\n",
        "#data.drop(\"OPEN_USER\", axis=1,inplace = True)\n",
        "#data.drop(\"CLOSE_USER\",axis=1, inplace = True)\n",
        "#data.drop(\"OPEN_GR\", axis=1,inplace = True)"
      ],
      "metadata": {
        "id": "gsuzOUimMxfZ"
      },
      "execution_count": 21,
      "outputs": []
    },
    {
      "cell_type": "code",
      "source": [
        "# check the duplicates\n",
        "data.duplicated().sum()"
      ],
      "metadata": {
        "colab": {
          "base_uri": "https://localhost:8080/"
        },
        "id": "YsnY2HsEVcuL",
        "outputId": "05f67914-3e9c-42d3-eb63-4eaacf261c5b"
      },
      "execution_count": 22,
      "outputs": [
        {
          "output_type": "execute_result",
          "data": {
            "text/plain": [
              "59"
            ]
          },
          "metadata": {},
          "execution_count": 22
        }
      ]
    },
    {
      "cell_type": "code",
      "source": [
        "# drop them then reset the index\n",
        "data.drop_duplicates(inplace=True)\n",
        "data.reset_index(drop=True, inplace=True)"
      ],
      "metadata": {
        "id": "0Aiso0Z_3BW_"
      },
      "execution_count": 23,
      "outputs": []
    },
    {
      "cell_type": "markdown",
      "source": [
        "# **machine learning model**"
      ],
      "metadata": {
        "id": "soTcWnh2UCdR"
      }
    },
    {
      "cell_type": "markdown",
      "source": [
        "**Split the dataset to training vs testing to evaluate the model**"
      ],
      "metadata": {
        "id": "1wU9FxewY-ca"
      }
    },
    {
      "cell_type": "code",
      "source": [
        "le = preprocessing.LabelEncoder()\n",
        "# to turn all these values into integers\n",
        "\n",
        "data['OFFER_NAME'] = le.fit_transform(data['OFFER_NAME'])\n",
        "data['CUSTOMER_GROUP'] = le.fit_transform(data['CUSTOMER_GROUP'])\n",
        "data['CURRENT_STATUS'] = le.fit_transform(data['CURRENT_STATUS'])\n",
        "data['ESCALATION_FLAG'] = le.fit_transform(data['ESCALATION_FLAG'])\n",
        "data['ESCALATED_GROUP'] = le.fit_transform(data['ESCALATED_GROUP'])\n",
        "data['CLOSE_DATE'] = le.fit_transform(data['CLOSE_DATE'])\n",
        "data['ACTUAL_COMPLAINT'] = le.fit_transform(data['ACTUAL_COMPLAINT'])\n",
        "data['CLOSE_GROUP'] = le.fit_transform(data['CLOSE_GROUP'])\n",
        "data['CASE'] = le.fit_transform(data['CASE'])\n",
        "data['COMPLAINT_TYPE'] = le.fit_transform(data['COMPLAINT_TYPE'])\n",
        "data['PRODUCT'] = le.fit_transform(data['PRODUCT'])\n",
        "\n",
        "#data['AGE_BRACKET'] = le.fit_transform(data['AGE_BRACKET'])\n",
        "#data['ACTUAL_COMPLAINT'] = le.fit_transform(data['ACTUAL_COMPLAINT'])\n",
        "#data['OPEN_GR'] = le.fit_transform(data['OPEN_GR'])\n",
        "#data['CLOSE_USER'] = le.fit_transform(data['CLOSE_USER'])\n",
        "#data['CUSTOMER_TYPE'] = le.fit_transform(data['CUSTOMER_TYPE'])\n"
      ],
      "metadata": {
        "id": "L2muNkBZOIzM"
      },
      "execution_count": 24,
      "outputs": []
    },
    {
      "cell_type": "code",
      "source": [
        "x1 = data.drop(['COMPLAINT_TYPE'],axis=1)\n",
        "\n",
        "y1=data['COMPLAINT_TYPE']"
      ],
      "metadata": {
        "id": "YNgsfeIoaZJX"
      },
      "execution_count": 25,
      "outputs": []
    },
    {
      "cell_type": "code",
      "source": [
        "x2 = data.drop(['PRODUCT'],axis=1)\n",
        "\n",
        "y2 =data['PRODUCT']"
      ],
      "metadata": {
        "id": "Xs_ZLwf5Igjw"
      },
      "execution_count": 26,
      "outputs": []
    },
    {
      "cell_type": "markdown",
      "source": [],
      "metadata": {
        "id": "1M9PEYapZ0ok"
      }
    },
    {
      "cell_type": "code",
      "source": [
        "x1_train , x1_test, y1_train, y1_test =train_test_split(x1,y1,test_size=0.33)"
      ],
      "metadata": {
        "id": "J0cvmgjMYXgh"
      },
      "execution_count": 27,
      "outputs": []
    },
    {
      "cell_type": "code",
      "source": [
        "x2_train , x2_test, y2_train, y2_test =train_test_split(x2,y2,test_size=0.33) \n",
        "# random_state=0??"
      ],
      "metadata": {
        "id": "EadnGKIC83gR"
      },
      "execution_count": 28,
      "outputs": []
    },
    {
      "cell_type": "markdown",
      "source": [
        "## **KNN**"
      ],
      "metadata": {
        "id": "y3ST9dUxZRtv"
      }
    },
    {
      "cell_type": "markdown",
      "source": [
        "### complaint type knn model"
      ],
      "metadata": {
        "id": "8xkAe_yFqur3"
      }
    },
    {
      "cell_type": "code",
      "source": [
        "knn1 =KNeighborsClassifier(n_neighbors=3)\n",
        "\n",
        "#Start trainig and testing the x1,y1 model 25 times\n",
        "knn1_acc=[]\n",
        "knn1_pre=[]\n",
        "knn1_rec=[]\n",
        "knn1_f1=[]\n",
        "\n",
        "for i in range(25):\n",
        "\n",
        "  knn1.fit(x1_train, y1_train)\n",
        "  y_pred= knn1.predict(x1_test)\n",
        "\n",
        "  acc=accuracy_score(y1_test,y_pred)\n",
        "  knn1_acc.append(acc)\n",
        "\n",
        "  rec=recall_score(y1_test,y_pred)\n",
        "  knn1_rec.append(rec)\n",
        "\n",
        "  pre=precision_score(y1_test,y_pred)\n",
        "  knn1_pre.append(pre)\n",
        "\n",
        "  f1=f1_score(y1_test,y_pred)\n",
        "  knn1_f1.append(f1)\n",
        "  \n",
        "print('knn1 accuracy:', sum(knn1_acc)/len(knn1_acc)) \n",
        "print('knn1 precision:',sum(knn1_pre)/len(knn1_pre))\n",
        "print('knn1 recall:',sum(knn1_rec)/len(knn1_rec))\n",
        "print('knn1 f1 score:',sum(knn1_f1)/len(knn1_f1))"
      ],
      "metadata": {
        "id": "Rn-g0vnVU2KC",
        "colab": {
          "base_uri": "https://localhost:8080/"
        },
        "outputId": "6da053b3-1a29-4c1a-8c5d-e9199b0517a0"
      },
      "execution_count": 29,
      "outputs": [
        {
          "output_type": "stream",
          "name": "stdout",
          "text": [
            "knn1 accuracy: 0.8089788732394364\n",
            "knn1 precision: 0.8462903798367057\n",
            "knn1 recall: 0.9162182936202922\n",
            "knn1 f1 score: 0.8798671341575935\n"
          ]
        }
      ]
    },
    {
      "cell_type": "markdown",
      "source": [
        "### product knn model"
      ],
      "metadata": {
        "id": "8gnkJPPFq54p"
      }
    },
    {
      "cell_type": "code",
      "source": [
        "knn2 =KNeighborsClassifier(n_neighbors=3)\n",
        "\n",
        "#Start trainig and testing the x2,y2 model 25 times\n",
        "knn2_acc=[]\n",
        "knn2_pre=[]\n",
        "knn2_rec=[]\n",
        "knn2_f1=[]\n",
        "\n",
        "for i in range(25):\n",
        "\n",
        "  knn2.fit(x2_train, y2_train)\n",
        "  y_pred= knn2.predict(x2_test)\n",
        "\n",
        "  acc=accuracy_score(y2_test,y_pred)\n",
        "  knn2_acc.append(acc)\n",
        "\n",
        "  rec=recall_score(y2_test,y_pred)\n",
        "  knn2_rec.append(rec)\n",
        "\n",
        "  pre=precision_score(y2_test,y_pred)\n",
        "  knn2_pre.append(pre)\n",
        "\n",
        "  f1=f1_score(y2_test,y_pred)\n",
        "  knn2_f1.append(f1)\n",
        "  \n",
        "print('knn2 accuracy:', sum(knn2_acc)/len(knn2_acc)) \n",
        "print('knn2 precision:',sum(knn2_pre)/len(knn2_pre))\n",
        "print('knn2 recall:',sum(knn2_rec)/len(knn2_rec))\n",
        "print('knn2 f1 score:',sum(knn2_f1)/len(knn2_f1))"
      ],
      "metadata": {
        "colab": {
          "base_uri": "https://localhost:8080/"
        },
        "id": "vaqp_ITXq49-",
        "outputId": "8dd7e169-e35e-45f9-d9de-7629bfc461c6"
      },
      "execution_count": 30,
      "outputs": [
        {
          "output_type": "stream",
          "name": "stdout",
          "text": [
            "knn2 accuracy: 0.9181338028169012\n",
            "knn2 precision: 0.8859934853420198\n",
            "knn2 recall: 0.8242424242424242\n",
            "knn2 f1 score: 0.8540031397174253\n"
          ]
        }
      ]
    },
    {
      "cell_type": "markdown",
      "source": [
        "## **Logistic Regression**"
      ],
      "metadata": {
        "id": "2B8aQ48XZYY1"
      }
    },
    {
      "cell_type": "markdown",
      "source": [
        "### complaint type logistic regression model"
      ],
      "metadata": {
        "id": "k0yfHImx7pf1"
      }
    },
    {
      "cell_type": "code",
      "source": [
        "#Build the Logisstic model and perform training.\n",
        "lr1= LogisticRegression()\n",
        "\n",
        "#Start trainig and testing the x1,y1 model 25 times\n",
        "lr1_acc=[]\n",
        "lr1_pre=[]\n",
        "lr1_rec=[]\n",
        "lr1_f1=[]\n",
        "\n",
        "for i in range(25):\n",
        "  lr1.fit( x1_train , y1_train)\n",
        "  y_pred=lr1.predict(x1_test)\n",
        "\n",
        "  acc=accuracy_score(y1_test,y_pred)\n",
        "  lr1_acc.append(acc)\n",
        "\n",
        "  rec=recall_score(y1_test,y_pred)\n",
        "  lr1_rec.append(rec)\n",
        "\n",
        "  pre=precision_score(y1_test,y_pred)\n",
        "  lr1_pre.append(pre)\n",
        "  \n",
        "  f1=f1_score(y1_test,y_pred)\n",
        "  lr1_f1.append(f1)"
      ],
      "metadata": {
        "id": "vK2qmpAbaCz_",
        "colab": {
          "base_uri": "https://localhost:8080/"
        },
        "outputId": "b779fc04-ebf2-4583-fa3d-8af783ed7650"
      },
      "execution_count": 31,
      "outputs": [
        {
          "output_type": "stream",
          "name": "stderr",
          "text": [
            "/usr/local/lib/python3.8/dist-packages/sklearn/linear_model/_logistic.py:814: ConvergenceWarning: lbfgs failed to converge (status=1):\n",
            "STOP: TOTAL NO. of ITERATIONS REACHED LIMIT.\n",
            "\n",
            "Increase the number of iterations (max_iter) or scale the data as shown in:\n",
            "    https://scikit-learn.org/stable/modules/preprocessing.html\n",
            "Please also refer to the documentation for alternative solver options:\n",
            "    https://scikit-learn.org/stable/modules/linear_model.html#logistic-regression\n",
            "  n_iter_i = _check_optimize_result(\n",
            "/usr/local/lib/python3.8/dist-packages/sklearn/linear_model/_logistic.py:814: ConvergenceWarning: lbfgs failed to converge (status=1):\n",
            "STOP: TOTAL NO. of ITERATIONS REACHED LIMIT.\n",
            "\n",
            "Increase the number of iterations (max_iter) or scale the data as shown in:\n",
            "    https://scikit-learn.org/stable/modules/preprocessing.html\n",
            "Please also refer to the documentation for alternative solver options:\n",
            "    https://scikit-learn.org/stable/modules/linear_model.html#logistic-regression\n",
            "  n_iter_i = _check_optimize_result(\n",
            "/usr/local/lib/python3.8/dist-packages/sklearn/linear_model/_logistic.py:814: ConvergenceWarning: lbfgs failed to converge (status=1):\n",
            "STOP: TOTAL NO. of ITERATIONS REACHED LIMIT.\n",
            "\n",
            "Increase the number of iterations (max_iter) or scale the data as shown in:\n",
            "    https://scikit-learn.org/stable/modules/preprocessing.html\n",
            "Please also refer to the documentation for alternative solver options:\n",
            "    https://scikit-learn.org/stable/modules/linear_model.html#logistic-regression\n",
            "  n_iter_i = _check_optimize_result(\n",
            "/usr/local/lib/python3.8/dist-packages/sklearn/linear_model/_logistic.py:814: ConvergenceWarning: lbfgs failed to converge (status=1):\n",
            "STOP: TOTAL NO. of ITERATIONS REACHED LIMIT.\n",
            "\n",
            "Increase the number of iterations (max_iter) or scale the data as shown in:\n",
            "    https://scikit-learn.org/stable/modules/preprocessing.html\n",
            "Please also refer to the documentation for alternative solver options:\n",
            "    https://scikit-learn.org/stable/modules/linear_model.html#logistic-regression\n",
            "  n_iter_i = _check_optimize_result(\n",
            "/usr/local/lib/python3.8/dist-packages/sklearn/linear_model/_logistic.py:814: ConvergenceWarning: lbfgs failed to converge (status=1):\n",
            "STOP: TOTAL NO. of ITERATIONS REACHED LIMIT.\n",
            "\n",
            "Increase the number of iterations (max_iter) or scale the data as shown in:\n",
            "    https://scikit-learn.org/stable/modules/preprocessing.html\n",
            "Please also refer to the documentation for alternative solver options:\n",
            "    https://scikit-learn.org/stable/modules/linear_model.html#logistic-regression\n",
            "  n_iter_i = _check_optimize_result(\n",
            "/usr/local/lib/python3.8/dist-packages/sklearn/linear_model/_logistic.py:814: ConvergenceWarning: lbfgs failed to converge (status=1):\n",
            "STOP: TOTAL NO. of ITERATIONS REACHED LIMIT.\n",
            "\n",
            "Increase the number of iterations (max_iter) or scale the data as shown in:\n",
            "    https://scikit-learn.org/stable/modules/preprocessing.html\n",
            "Please also refer to the documentation for alternative solver options:\n",
            "    https://scikit-learn.org/stable/modules/linear_model.html#logistic-regression\n",
            "  n_iter_i = _check_optimize_result(\n",
            "/usr/local/lib/python3.8/dist-packages/sklearn/linear_model/_logistic.py:814: ConvergenceWarning: lbfgs failed to converge (status=1):\n",
            "STOP: TOTAL NO. of ITERATIONS REACHED LIMIT.\n",
            "\n",
            "Increase the number of iterations (max_iter) or scale the data as shown in:\n",
            "    https://scikit-learn.org/stable/modules/preprocessing.html\n",
            "Please also refer to the documentation for alternative solver options:\n",
            "    https://scikit-learn.org/stable/modules/linear_model.html#logistic-regression\n",
            "  n_iter_i = _check_optimize_result(\n",
            "/usr/local/lib/python3.8/dist-packages/sklearn/linear_model/_logistic.py:814: ConvergenceWarning: lbfgs failed to converge (status=1):\n",
            "STOP: TOTAL NO. of ITERATIONS REACHED LIMIT.\n",
            "\n",
            "Increase the number of iterations (max_iter) or scale the data as shown in:\n",
            "    https://scikit-learn.org/stable/modules/preprocessing.html\n",
            "Please also refer to the documentation for alternative solver options:\n",
            "    https://scikit-learn.org/stable/modules/linear_model.html#logistic-regression\n",
            "  n_iter_i = _check_optimize_result(\n",
            "/usr/local/lib/python3.8/dist-packages/sklearn/linear_model/_logistic.py:814: ConvergenceWarning: lbfgs failed to converge (status=1):\n",
            "STOP: TOTAL NO. of ITERATIONS REACHED LIMIT.\n",
            "\n",
            "Increase the number of iterations (max_iter) or scale the data as shown in:\n",
            "    https://scikit-learn.org/stable/modules/preprocessing.html\n",
            "Please also refer to the documentation for alternative solver options:\n",
            "    https://scikit-learn.org/stable/modules/linear_model.html#logistic-regression\n",
            "  n_iter_i = _check_optimize_result(\n",
            "/usr/local/lib/python3.8/dist-packages/sklearn/linear_model/_logistic.py:814: ConvergenceWarning: lbfgs failed to converge (status=1):\n",
            "STOP: TOTAL NO. of ITERATIONS REACHED LIMIT.\n",
            "\n",
            "Increase the number of iterations (max_iter) or scale the data as shown in:\n",
            "    https://scikit-learn.org/stable/modules/preprocessing.html\n",
            "Please also refer to the documentation for alternative solver options:\n",
            "    https://scikit-learn.org/stable/modules/linear_model.html#logistic-regression\n",
            "  n_iter_i = _check_optimize_result(\n",
            "/usr/local/lib/python3.8/dist-packages/sklearn/linear_model/_logistic.py:814: ConvergenceWarning: lbfgs failed to converge (status=1):\n",
            "STOP: TOTAL NO. of ITERATIONS REACHED LIMIT.\n",
            "\n",
            "Increase the number of iterations (max_iter) or scale the data as shown in:\n",
            "    https://scikit-learn.org/stable/modules/preprocessing.html\n",
            "Please also refer to the documentation for alternative solver options:\n",
            "    https://scikit-learn.org/stable/modules/linear_model.html#logistic-regression\n",
            "  n_iter_i = _check_optimize_result(\n",
            "/usr/local/lib/python3.8/dist-packages/sklearn/linear_model/_logistic.py:814: ConvergenceWarning: lbfgs failed to converge (status=1):\n",
            "STOP: TOTAL NO. of ITERATIONS REACHED LIMIT.\n",
            "\n",
            "Increase the number of iterations (max_iter) or scale the data as shown in:\n",
            "    https://scikit-learn.org/stable/modules/preprocessing.html\n",
            "Please also refer to the documentation for alternative solver options:\n",
            "    https://scikit-learn.org/stable/modules/linear_model.html#logistic-regression\n",
            "  n_iter_i = _check_optimize_result(\n",
            "/usr/local/lib/python3.8/dist-packages/sklearn/linear_model/_logistic.py:814: ConvergenceWarning: lbfgs failed to converge (status=1):\n",
            "STOP: TOTAL NO. of ITERATIONS REACHED LIMIT.\n",
            "\n",
            "Increase the number of iterations (max_iter) or scale the data as shown in:\n",
            "    https://scikit-learn.org/stable/modules/preprocessing.html\n",
            "Please also refer to the documentation for alternative solver options:\n",
            "    https://scikit-learn.org/stable/modules/linear_model.html#logistic-regression\n",
            "  n_iter_i = _check_optimize_result(\n",
            "/usr/local/lib/python3.8/dist-packages/sklearn/linear_model/_logistic.py:814: ConvergenceWarning: lbfgs failed to converge (status=1):\n",
            "STOP: TOTAL NO. of ITERATIONS REACHED LIMIT.\n",
            "\n",
            "Increase the number of iterations (max_iter) or scale the data as shown in:\n",
            "    https://scikit-learn.org/stable/modules/preprocessing.html\n",
            "Please also refer to the documentation for alternative solver options:\n",
            "    https://scikit-learn.org/stable/modules/linear_model.html#logistic-regression\n",
            "  n_iter_i = _check_optimize_result(\n",
            "/usr/local/lib/python3.8/dist-packages/sklearn/linear_model/_logistic.py:814: ConvergenceWarning: lbfgs failed to converge (status=1):\n",
            "STOP: TOTAL NO. of ITERATIONS REACHED LIMIT.\n",
            "\n",
            "Increase the number of iterations (max_iter) or scale the data as shown in:\n",
            "    https://scikit-learn.org/stable/modules/preprocessing.html\n",
            "Please also refer to the documentation for alternative solver options:\n",
            "    https://scikit-learn.org/stable/modules/linear_model.html#logistic-regression\n",
            "  n_iter_i = _check_optimize_result(\n",
            "/usr/local/lib/python3.8/dist-packages/sklearn/linear_model/_logistic.py:814: ConvergenceWarning: lbfgs failed to converge (status=1):\n",
            "STOP: TOTAL NO. of ITERATIONS REACHED LIMIT.\n",
            "\n",
            "Increase the number of iterations (max_iter) or scale the data as shown in:\n",
            "    https://scikit-learn.org/stable/modules/preprocessing.html\n",
            "Please also refer to the documentation for alternative solver options:\n",
            "    https://scikit-learn.org/stable/modules/linear_model.html#logistic-regression\n",
            "  n_iter_i = _check_optimize_result(\n",
            "/usr/local/lib/python3.8/dist-packages/sklearn/linear_model/_logistic.py:814: ConvergenceWarning: lbfgs failed to converge (status=1):\n",
            "STOP: TOTAL NO. of ITERATIONS REACHED LIMIT.\n",
            "\n",
            "Increase the number of iterations (max_iter) or scale the data as shown in:\n",
            "    https://scikit-learn.org/stable/modules/preprocessing.html\n",
            "Please also refer to the documentation for alternative solver options:\n",
            "    https://scikit-learn.org/stable/modules/linear_model.html#logistic-regression\n",
            "  n_iter_i = _check_optimize_result(\n",
            "/usr/local/lib/python3.8/dist-packages/sklearn/linear_model/_logistic.py:814: ConvergenceWarning: lbfgs failed to converge (status=1):\n",
            "STOP: TOTAL NO. of ITERATIONS REACHED LIMIT.\n",
            "\n",
            "Increase the number of iterations (max_iter) or scale the data as shown in:\n",
            "    https://scikit-learn.org/stable/modules/preprocessing.html\n",
            "Please also refer to the documentation for alternative solver options:\n",
            "    https://scikit-learn.org/stable/modules/linear_model.html#logistic-regression\n",
            "  n_iter_i = _check_optimize_result(\n",
            "/usr/local/lib/python3.8/dist-packages/sklearn/linear_model/_logistic.py:814: ConvergenceWarning: lbfgs failed to converge (status=1):\n",
            "STOP: TOTAL NO. of ITERATIONS REACHED LIMIT.\n",
            "\n",
            "Increase the number of iterations (max_iter) or scale the data as shown in:\n",
            "    https://scikit-learn.org/stable/modules/preprocessing.html\n",
            "Please also refer to the documentation for alternative solver options:\n",
            "    https://scikit-learn.org/stable/modules/linear_model.html#logistic-regression\n",
            "  n_iter_i = _check_optimize_result(\n",
            "/usr/local/lib/python3.8/dist-packages/sklearn/linear_model/_logistic.py:814: ConvergenceWarning: lbfgs failed to converge (status=1):\n",
            "STOP: TOTAL NO. of ITERATIONS REACHED LIMIT.\n",
            "\n",
            "Increase the number of iterations (max_iter) or scale the data as shown in:\n",
            "    https://scikit-learn.org/stable/modules/preprocessing.html\n",
            "Please also refer to the documentation for alternative solver options:\n",
            "    https://scikit-learn.org/stable/modules/linear_model.html#logistic-regression\n",
            "  n_iter_i = _check_optimize_result(\n",
            "/usr/local/lib/python3.8/dist-packages/sklearn/linear_model/_logistic.py:814: ConvergenceWarning: lbfgs failed to converge (status=1):\n",
            "STOP: TOTAL NO. of ITERATIONS REACHED LIMIT.\n",
            "\n",
            "Increase the number of iterations (max_iter) or scale the data as shown in:\n",
            "    https://scikit-learn.org/stable/modules/preprocessing.html\n",
            "Please also refer to the documentation for alternative solver options:\n",
            "    https://scikit-learn.org/stable/modules/linear_model.html#logistic-regression\n",
            "  n_iter_i = _check_optimize_result(\n",
            "/usr/local/lib/python3.8/dist-packages/sklearn/linear_model/_logistic.py:814: ConvergenceWarning: lbfgs failed to converge (status=1):\n",
            "STOP: TOTAL NO. of ITERATIONS REACHED LIMIT.\n",
            "\n",
            "Increase the number of iterations (max_iter) or scale the data as shown in:\n",
            "    https://scikit-learn.org/stable/modules/preprocessing.html\n",
            "Please also refer to the documentation for alternative solver options:\n",
            "    https://scikit-learn.org/stable/modules/linear_model.html#logistic-regression\n",
            "  n_iter_i = _check_optimize_result(\n",
            "/usr/local/lib/python3.8/dist-packages/sklearn/linear_model/_logistic.py:814: ConvergenceWarning: lbfgs failed to converge (status=1):\n",
            "STOP: TOTAL NO. of ITERATIONS REACHED LIMIT.\n",
            "\n",
            "Increase the number of iterations (max_iter) or scale the data as shown in:\n",
            "    https://scikit-learn.org/stable/modules/preprocessing.html\n",
            "Please also refer to the documentation for alternative solver options:\n",
            "    https://scikit-learn.org/stable/modules/linear_model.html#logistic-regression\n",
            "  n_iter_i = _check_optimize_result(\n",
            "/usr/local/lib/python3.8/dist-packages/sklearn/linear_model/_logistic.py:814: ConvergenceWarning: lbfgs failed to converge (status=1):\n",
            "STOP: TOTAL NO. of ITERATIONS REACHED LIMIT.\n",
            "\n",
            "Increase the number of iterations (max_iter) or scale the data as shown in:\n",
            "    https://scikit-learn.org/stable/modules/preprocessing.html\n",
            "Please also refer to the documentation for alternative solver options:\n",
            "    https://scikit-learn.org/stable/modules/linear_model.html#logistic-regression\n",
            "  n_iter_i = _check_optimize_result(\n",
            "/usr/local/lib/python3.8/dist-packages/sklearn/linear_model/_logistic.py:814: ConvergenceWarning: lbfgs failed to converge (status=1):\n",
            "STOP: TOTAL NO. of ITERATIONS REACHED LIMIT.\n",
            "\n",
            "Increase the number of iterations (max_iter) or scale the data as shown in:\n",
            "    https://scikit-learn.org/stable/modules/preprocessing.html\n",
            "Please also refer to the documentation for alternative solver options:\n",
            "    https://scikit-learn.org/stable/modules/linear_model.html#logistic-regression\n",
            "  n_iter_i = _check_optimize_result(\n"
          ]
        }
      ]
    },
    {
      "cell_type": "code",
      "source": [
        "# complaint type\n",
        "print('lr1 acc:', sum(lr1_acc)/len(lr1_acc)) \n",
        "print('lr1 pre:',sum(lr1_pre)/len(lr1_pre))\n",
        "print('lr1 rec:',sum(lr1_rec)/len(lr1_rec))\n",
        "print('lr1 f1:',sum(lr1_f1)/len(lr1_f1))"
      ],
      "metadata": {
        "colab": {
          "base_uri": "https://localhost:8080/"
        },
        "id": "mTmxaZo4SXKq",
        "outputId": "1ec90058-2383-4dc8-89ba-a84554d0ebac"
      },
      "execution_count": 32,
      "outputs": [
        {
          "output_type": "stream",
          "name": "stdout",
          "text": [
            "lr1 acc: 0.9914906103286387\n",
            "lr1 pre: 0.9915934275888424\n",
            "lr1 rec: 0.9973097617217522\n",
            "lr1 f1: 0.9944433799578466\n"
          ]
        }
      ]
    },
    {
      "cell_type": "markdown",
      "source": [
        "### product type logistic regression model"
      ],
      "metadata": {
        "id": "BuM8s6hy736D"
      }
    },
    {
      "cell_type": "code",
      "source": [
        "#Build the Logisstic model and perform training.\n",
        "lr2= LogisticRegression()\n",
        "\n",
        "#Start trainig and testing the x1,y1 model 25 times\n",
        "lr2_acc=[]\n",
        "lr2_pre=[]\n",
        "lr2_rec=[]\n",
        "lr2_f1=[]\n",
        "\n",
        "for i in range(25):\n",
        "\n",
        "  lr2.fit( x2_train , y2_train)\n",
        "  y_pred=lr2.predict(x2_test)\n",
        "\n",
        "  acc=accuracy_score(y2_test,y_pred)\n",
        "  lr2_acc.append(acc)\n",
        "\n",
        "  rec=recall_score(y2_test,y_pred)\n",
        "  lr2_rec.append(rec)\n",
        "\n",
        "  pre=precision_score(y2_test,y_pred)\n",
        "  lr2_pre.append(pre)\n",
        "  \n",
        "  f1=f1_score(y2_test,y_pred)\n",
        "  lr2_f1.append(f1)"
      ],
      "metadata": {
        "colab": {
          "base_uri": "https://localhost:8080/"
        },
        "id": "eyJBks6BsdNQ",
        "outputId": "57cff559-aa49-4f30-e8c1-1752e16676a4"
      },
      "execution_count": 33,
      "outputs": [
        {
          "output_type": "stream",
          "name": "stderr",
          "text": [
            "/usr/local/lib/python3.8/dist-packages/sklearn/linear_model/_logistic.py:814: ConvergenceWarning: lbfgs failed to converge (status=1):\n",
            "STOP: TOTAL NO. of ITERATIONS REACHED LIMIT.\n",
            "\n",
            "Increase the number of iterations (max_iter) or scale the data as shown in:\n",
            "    https://scikit-learn.org/stable/modules/preprocessing.html\n",
            "Please also refer to the documentation for alternative solver options:\n",
            "    https://scikit-learn.org/stable/modules/linear_model.html#logistic-regression\n",
            "  n_iter_i = _check_optimize_result(\n",
            "/usr/local/lib/python3.8/dist-packages/sklearn/linear_model/_logistic.py:814: ConvergenceWarning: lbfgs failed to converge (status=1):\n",
            "STOP: TOTAL NO. of ITERATIONS REACHED LIMIT.\n",
            "\n",
            "Increase the number of iterations (max_iter) or scale the data as shown in:\n",
            "    https://scikit-learn.org/stable/modules/preprocessing.html\n",
            "Please also refer to the documentation for alternative solver options:\n",
            "    https://scikit-learn.org/stable/modules/linear_model.html#logistic-regression\n",
            "  n_iter_i = _check_optimize_result(\n",
            "/usr/local/lib/python3.8/dist-packages/sklearn/linear_model/_logistic.py:814: ConvergenceWarning: lbfgs failed to converge (status=1):\n",
            "STOP: TOTAL NO. of ITERATIONS REACHED LIMIT.\n",
            "\n",
            "Increase the number of iterations (max_iter) or scale the data as shown in:\n",
            "    https://scikit-learn.org/stable/modules/preprocessing.html\n",
            "Please also refer to the documentation for alternative solver options:\n",
            "    https://scikit-learn.org/stable/modules/linear_model.html#logistic-regression\n",
            "  n_iter_i = _check_optimize_result(\n",
            "/usr/local/lib/python3.8/dist-packages/sklearn/linear_model/_logistic.py:814: ConvergenceWarning: lbfgs failed to converge (status=1):\n",
            "STOP: TOTAL NO. of ITERATIONS REACHED LIMIT.\n",
            "\n",
            "Increase the number of iterations (max_iter) or scale the data as shown in:\n",
            "    https://scikit-learn.org/stable/modules/preprocessing.html\n",
            "Please also refer to the documentation for alternative solver options:\n",
            "    https://scikit-learn.org/stable/modules/linear_model.html#logistic-regression\n",
            "  n_iter_i = _check_optimize_result(\n",
            "/usr/local/lib/python3.8/dist-packages/sklearn/linear_model/_logistic.py:814: ConvergenceWarning: lbfgs failed to converge (status=1):\n",
            "STOP: TOTAL NO. of ITERATIONS REACHED LIMIT.\n",
            "\n",
            "Increase the number of iterations (max_iter) or scale the data as shown in:\n",
            "    https://scikit-learn.org/stable/modules/preprocessing.html\n",
            "Please also refer to the documentation for alternative solver options:\n",
            "    https://scikit-learn.org/stable/modules/linear_model.html#logistic-regression\n",
            "  n_iter_i = _check_optimize_result(\n",
            "/usr/local/lib/python3.8/dist-packages/sklearn/linear_model/_logistic.py:814: ConvergenceWarning: lbfgs failed to converge (status=1):\n",
            "STOP: TOTAL NO. of ITERATIONS REACHED LIMIT.\n",
            "\n",
            "Increase the number of iterations (max_iter) or scale the data as shown in:\n",
            "    https://scikit-learn.org/stable/modules/preprocessing.html\n",
            "Please also refer to the documentation for alternative solver options:\n",
            "    https://scikit-learn.org/stable/modules/linear_model.html#logistic-regression\n",
            "  n_iter_i = _check_optimize_result(\n",
            "/usr/local/lib/python3.8/dist-packages/sklearn/linear_model/_logistic.py:814: ConvergenceWarning: lbfgs failed to converge (status=1):\n",
            "STOP: TOTAL NO. of ITERATIONS REACHED LIMIT.\n",
            "\n",
            "Increase the number of iterations (max_iter) or scale the data as shown in:\n",
            "    https://scikit-learn.org/stable/modules/preprocessing.html\n",
            "Please also refer to the documentation for alternative solver options:\n",
            "    https://scikit-learn.org/stable/modules/linear_model.html#logistic-regression\n",
            "  n_iter_i = _check_optimize_result(\n",
            "/usr/local/lib/python3.8/dist-packages/sklearn/linear_model/_logistic.py:814: ConvergenceWarning: lbfgs failed to converge (status=1):\n",
            "STOP: TOTAL NO. of ITERATIONS REACHED LIMIT.\n",
            "\n",
            "Increase the number of iterations (max_iter) or scale the data as shown in:\n",
            "    https://scikit-learn.org/stable/modules/preprocessing.html\n",
            "Please also refer to the documentation for alternative solver options:\n",
            "    https://scikit-learn.org/stable/modules/linear_model.html#logistic-regression\n",
            "  n_iter_i = _check_optimize_result(\n",
            "/usr/local/lib/python3.8/dist-packages/sklearn/linear_model/_logistic.py:814: ConvergenceWarning: lbfgs failed to converge (status=1):\n",
            "STOP: TOTAL NO. of ITERATIONS REACHED LIMIT.\n",
            "\n",
            "Increase the number of iterations (max_iter) or scale the data as shown in:\n",
            "    https://scikit-learn.org/stable/modules/preprocessing.html\n",
            "Please also refer to the documentation for alternative solver options:\n",
            "    https://scikit-learn.org/stable/modules/linear_model.html#logistic-regression\n",
            "  n_iter_i = _check_optimize_result(\n",
            "/usr/local/lib/python3.8/dist-packages/sklearn/linear_model/_logistic.py:814: ConvergenceWarning: lbfgs failed to converge (status=1):\n",
            "STOP: TOTAL NO. of ITERATIONS REACHED LIMIT.\n",
            "\n",
            "Increase the number of iterations (max_iter) or scale the data as shown in:\n",
            "    https://scikit-learn.org/stable/modules/preprocessing.html\n",
            "Please also refer to the documentation for alternative solver options:\n",
            "    https://scikit-learn.org/stable/modules/linear_model.html#logistic-regression\n",
            "  n_iter_i = _check_optimize_result(\n",
            "/usr/local/lib/python3.8/dist-packages/sklearn/linear_model/_logistic.py:814: ConvergenceWarning: lbfgs failed to converge (status=1):\n",
            "STOP: TOTAL NO. of ITERATIONS REACHED LIMIT.\n",
            "\n",
            "Increase the number of iterations (max_iter) or scale the data as shown in:\n",
            "    https://scikit-learn.org/stable/modules/preprocessing.html\n",
            "Please also refer to the documentation for alternative solver options:\n",
            "    https://scikit-learn.org/stable/modules/linear_model.html#logistic-regression\n",
            "  n_iter_i = _check_optimize_result(\n",
            "/usr/local/lib/python3.8/dist-packages/sklearn/linear_model/_logistic.py:814: ConvergenceWarning: lbfgs failed to converge (status=1):\n",
            "STOP: TOTAL NO. of ITERATIONS REACHED LIMIT.\n",
            "\n",
            "Increase the number of iterations (max_iter) or scale the data as shown in:\n",
            "    https://scikit-learn.org/stable/modules/preprocessing.html\n",
            "Please also refer to the documentation for alternative solver options:\n",
            "    https://scikit-learn.org/stable/modules/linear_model.html#logistic-regression\n",
            "  n_iter_i = _check_optimize_result(\n",
            "/usr/local/lib/python3.8/dist-packages/sklearn/linear_model/_logistic.py:814: ConvergenceWarning: lbfgs failed to converge (status=1):\n",
            "STOP: TOTAL NO. of ITERATIONS REACHED LIMIT.\n",
            "\n",
            "Increase the number of iterations (max_iter) or scale the data as shown in:\n",
            "    https://scikit-learn.org/stable/modules/preprocessing.html\n",
            "Please also refer to the documentation for alternative solver options:\n",
            "    https://scikit-learn.org/stable/modules/linear_model.html#logistic-regression\n",
            "  n_iter_i = _check_optimize_result(\n",
            "/usr/local/lib/python3.8/dist-packages/sklearn/linear_model/_logistic.py:814: ConvergenceWarning: lbfgs failed to converge (status=1):\n",
            "STOP: TOTAL NO. of ITERATIONS REACHED LIMIT.\n",
            "\n",
            "Increase the number of iterations (max_iter) or scale the data as shown in:\n",
            "    https://scikit-learn.org/stable/modules/preprocessing.html\n",
            "Please also refer to the documentation for alternative solver options:\n",
            "    https://scikit-learn.org/stable/modules/linear_model.html#logistic-regression\n",
            "  n_iter_i = _check_optimize_result(\n",
            "/usr/local/lib/python3.8/dist-packages/sklearn/linear_model/_logistic.py:814: ConvergenceWarning: lbfgs failed to converge (status=1):\n",
            "STOP: TOTAL NO. of ITERATIONS REACHED LIMIT.\n",
            "\n",
            "Increase the number of iterations (max_iter) or scale the data as shown in:\n",
            "    https://scikit-learn.org/stable/modules/preprocessing.html\n",
            "Please also refer to the documentation for alternative solver options:\n",
            "    https://scikit-learn.org/stable/modules/linear_model.html#logistic-regression\n",
            "  n_iter_i = _check_optimize_result(\n",
            "/usr/local/lib/python3.8/dist-packages/sklearn/linear_model/_logistic.py:814: ConvergenceWarning: lbfgs failed to converge (status=1):\n",
            "STOP: TOTAL NO. of ITERATIONS REACHED LIMIT.\n",
            "\n",
            "Increase the number of iterations (max_iter) or scale the data as shown in:\n",
            "    https://scikit-learn.org/stable/modules/preprocessing.html\n",
            "Please also refer to the documentation for alternative solver options:\n",
            "    https://scikit-learn.org/stable/modules/linear_model.html#logistic-regression\n",
            "  n_iter_i = _check_optimize_result(\n",
            "/usr/local/lib/python3.8/dist-packages/sklearn/linear_model/_logistic.py:814: ConvergenceWarning: lbfgs failed to converge (status=1):\n",
            "STOP: TOTAL NO. of ITERATIONS REACHED LIMIT.\n",
            "\n",
            "Increase the number of iterations (max_iter) or scale the data as shown in:\n",
            "    https://scikit-learn.org/stable/modules/preprocessing.html\n",
            "Please also refer to the documentation for alternative solver options:\n",
            "    https://scikit-learn.org/stable/modules/linear_model.html#logistic-regression\n",
            "  n_iter_i = _check_optimize_result(\n",
            "/usr/local/lib/python3.8/dist-packages/sklearn/linear_model/_logistic.py:814: ConvergenceWarning: lbfgs failed to converge (status=1):\n",
            "STOP: TOTAL NO. of ITERATIONS REACHED LIMIT.\n",
            "\n",
            "Increase the number of iterations (max_iter) or scale the data as shown in:\n",
            "    https://scikit-learn.org/stable/modules/preprocessing.html\n",
            "Please also refer to the documentation for alternative solver options:\n",
            "    https://scikit-learn.org/stable/modules/linear_model.html#logistic-regression\n",
            "  n_iter_i = _check_optimize_result(\n",
            "/usr/local/lib/python3.8/dist-packages/sklearn/linear_model/_logistic.py:814: ConvergenceWarning: lbfgs failed to converge (status=1):\n",
            "STOP: TOTAL NO. of ITERATIONS REACHED LIMIT.\n",
            "\n",
            "Increase the number of iterations (max_iter) or scale the data as shown in:\n",
            "    https://scikit-learn.org/stable/modules/preprocessing.html\n",
            "Please also refer to the documentation for alternative solver options:\n",
            "    https://scikit-learn.org/stable/modules/linear_model.html#logistic-regression\n",
            "  n_iter_i = _check_optimize_result(\n",
            "/usr/local/lib/python3.8/dist-packages/sklearn/linear_model/_logistic.py:814: ConvergenceWarning: lbfgs failed to converge (status=1):\n",
            "STOP: TOTAL NO. of ITERATIONS REACHED LIMIT.\n",
            "\n",
            "Increase the number of iterations (max_iter) or scale the data as shown in:\n",
            "    https://scikit-learn.org/stable/modules/preprocessing.html\n",
            "Please also refer to the documentation for alternative solver options:\n",
            "    https://scikit-learn.org/stable/modules/linear_model.html#logistic-regression\n",
            "  n_iter_i = _check_optimize_result(\n",
            "/usr/local/lib/python3.8/dist-packages/sklearn/linear_model/_logistic.py:814: ConvergenceWarning: lbfgs failed to converge (status=1):\n",
            "STOP: TOTAL NO. of ITERATIONS REACHED LIMIT.\n",
            "\n",
            "Increase the number of iterations (max_iter) or scale the data as shown in:\n",
            "    https://scikit-learn.org/stable/modules/preprocessing.html\n",
            "Please also refer to the documentation for alternative solver options:\n",
            "    https://scikit-learn.org/stable/modules/linear_model.html#logistic-regression\n",
            "  n_iter_i = _check_optimize_result(\n",
            "/usr/local/lib/python3.8/dist-packages/sklearn/linear_model/_logistic.py:814: ConvergenceWarning: lbfgs failed to converge (status=1):\n",
            "STOP: TOTAL NO. of ITERATIONS REACHED LIMIT.\n",
            "\n",
            "Increase the number of iterations (max_iter) or scale the data as shown in:\n",
            "    https://scikit-learn.org/stable/modules/preprocessing.html\n",
            "Please also refer to the documentation for alternative solver options:\n",
            "    https://scikit-learn.org/stable/modules/linear_model.html#logistic-regression\n",
            "  n_iter_i = _check_optimize_result(\n",
            "/usr/local/lib/python3.8/dist-packages/sklearn/linear_model/_logistic.py:814: ConvergenceWarning: lbfgs failed to converge (status=1):\n",
            "STOP: TOTAL NO. of ITERATIONS REACHED LIMIT.\n",
            "\n",
            "Increase the number of iterations (max_iter) or scale the data as shown in:\n",
            "    https://scikit-learn.org/stable/modules/preprocessing.html\n",
            "Please also refer to the documentation for alternative solver options:\n",
            "    https://scikit-learn.org/stable/modules/linear_model.html#logistic-regression\n",
            "  n_iter_i = _check_optimize_result(\n",
            "/usr/local/lib/python3.8/dist-packages/sklearn/linear_model/_logistic.py:814: ConvergenceWarning: lbfgs failed to converge (status=1):\n",
            "STOP: TOTAL NO. of ITERATIONS REACHED LIMIT.\n",
            "\n",
            "Increase the number of iterations (max_iter) or scale the data as shown in:\n",
            "    https://scikit-learn.org/stable/modules/preprocessing.html\n",
            "Please also refer to the documentation for alternative solver options:\n",
            "    https://scikit-learn.org/stable/modules/linear_model.html#logistic-regression\n",
            "  n_iter_i = _check_optimize_result(\n",
            "/usr/local/lib/python3.8/dist-packages/sklearn/linear_model/_logistic.py:814: ConvergenceWarning: lbfgs failed to converge (status=1):\n",
            "STOP: TOTAL NO. of ITERATIONS REACHED LIMIT.\n",
            "\n",
            "Increase the number of iterations (max_iter) or scale the data as shown in:\n",
            "    https://scikit-learn.org/stable/modules/preprocessing.html\n",
            "Please also refer to the documentation for alternative solver options:\n",
            "    https://scikit-learn.org/stable/modules/linear_model.html#logistic-regression\n",
            "  n_iter_i = _check_optimize_result(\n"
          ]
        }
      ]
    },
    {
      "cell_type": "code",
      "source": [
        "# product\n",
        "print('lr2 acc:', sum(lr2_acc)/len(lr2_acc)) \n",
        "print('lr2 pre:',sum(lr2_pre)/len(lr2_pre))\n",
        "print('lr2 rec:',sum(lr2_rec)/len(lr2_rec))\n",
        "print('lr2 f1:',sum(lr2_f1)/len(lr2_f1))"
      ],
      "metadata": {
        "colab": {
          "base_uri": "https://localhost:8080/"
        },
        "id": "xtJqkxd6utJV",
        "outputId": "bb754084-fac7-4fe4-9359-451fcb394952"
      },
      "execution_count": 34,
      "outputs": [
        {
          "output_type": "stream",
          "name": "stdout",
          "text": [
            "lr2 acc: 0.8195422535211268\n",
            "lr2 pre: 0.6777251184834122\n",
            "lr2 rec: 0.7222222222222219\n",
            "lr2 f1: 0.6992665036674812\n"
          ]
        }
      ]
    },
    {
      "cell_type": "markdown",
      "source": [
        "## **Naive Bayes**"
      ],
      "metadata": {
        "id": "njy8Sc2Casx3"
      }
    },
    {
      "cell_type": "markdown",
      "source": [
        "### complaint type naive bayes model"
      ],
      "metadata": {
        "id": "NAIyFTS27dch"
      }
    },
    {
      "cell_type": "code",
      "source": [
        "#Build the NB model and perform training.\n",
        "nb1= GaussianNB()\n",
        "\n",
        "#Start trainig and testing the model 25 times\n",
        "nb1_acc=[]\n",
        "nb1_pre=[]\n",
        "nb1_rec=[]\n",
        "nb1_f1=[]\n",
        "\n",
        "for i in range(25):\n",
        "  nb1.fit(x1_train,y1_train)\n",
        "  y_pred=nb1.predict(x1_test)\n",
        "\n",
        "  acc=accuracy_score(y1_test,y_pred)\n",
        "  nb1_acc.append(acc)\n",
        "\n",
        "  rec=recall_score(y1_test,y_pred)\n",
        "  nb1_rec.append(rec)\n",
        "\n",
        "  pre=precision_score(y1_test,y_pred)\n",
        "  nb1_pre.append(pre)\n",
        "  \n",
        "  f1=f1_score(y1_test,y_pred)\n",
        "  nb1_f1.append(f1)\n",
        "\n",
        "print('nb1 acc:', sum(nb1_acc)/len(nb1_acc)) \n",
        "print('nb1 pre:',sum(nb1_pre)/len(nb1_pre))\n",
        "print('nb1 rec:',sum(nb1_rec)/len(nb1_rec))\n",
        "print('nb1 f1:',sum(nb1_f1)/len(nb1_f1))"
      ],
      "metadata": {
        "id": "Wm0QH2RnayYO",
        "colab": {
          "base_uri": "https://localhost:8080/"
        },
        "outputId": "dbf625ad-5c48-45bf-8eb6-12818563a365"
      },
      "execution_count": 35,
      "outputs": [
        {
          "output_type": "stream",
          "name": "stdout",
          "text": [
            "nb1 acc: 0.9879694835680756\n",
            "nb1 pre: 0.9926894959599852\n",
            "nb1 rec: 0.9915449654112222\n",
            "nb1 f1: 0.992116900596039\n"
          ]
        }
      ]
    },
    {
      "cell_type": "markdown",
      "source": [
        "### product type naive bayes model"
      ],
      "metadata": {
        "id": "nvC4Qwz86_Lr"
      }
    },
    {
      "cell_type": "code",
      "source": [
        "#Build the NB model and perform training.\n",
        "nb2= GaussianNB()\n",
        "\n",
        "#Start trainig and testing the model 25 times\n",
        "nb2_acc=[]\n",
        "nb2_pre=[]\n",
        "nb2_rec=[]\n",
        "nb2_f1=[]\n",
        "\n",
        "for i in range(25):\n",
        "  #create the training data\n",
        "  nb2.fit(x2_train,y2_train)\n",
        "  y_pred=nb2.predict(x2_test)\n",
        "\n",
        "  acc=accuracy_score(y2_test,y_pred)\n",
        "  nb2_acc.append(acc)\n",
        "\n",
        "  rec=recall_score(y2_test,y_pred)\n",
        "  nb2_rec.append(rec)\n",
        "\n",
        "  pre=precision_score(y2_test,y_pred)\n",
        "  nb2_pre.append(pre)\n",
        "  \n",
        "  f1=f1_score(y2_test,y_pred)\n",
        "  nb2_f1.append(f1)\n",
        "\n",
        "print('nb2 acc:', sum(nb2_acc)/len(nb2_acc)) \n",
        "print('nb2 pre:',sum(nb2_pre)/len(nb2_pre))\n",
        "print('nb2 rec:',sum(nb2_rec)/len(nb2_rec))\n",
        "print('nb2 f1:',sum(nb2_f1)/len(nb2_f1))"
      ],
      "metadata": {
        "id": "bw0upbpNa1gW",
        "colab": {
          "base_uri": "https://localhost:8080/"
        },
        "outputId": "e3002338-435d-4f37-fd5a-a1721a452a5f"
      },
      "execution_count": 36,
      "outputs": [
        {
          "output_type": "stream",
          "name": "stdout",
          "text": [
            "nb2 acc: 0.8380281690140842\n",
            "nb2 pre: 0.6852791878172586\n",
            "nb2 rec: 0.8181818181818179\n",
            "nb2 f1: 0.7458563535911602\n"
          ]
        }
      ]
    },
    {
      "cell_type": "markdown",
      "source": [
        "##**Decision Tree**"
      ],
      "metadata": {
        "id": "qWY3k1CDi_7x"
      }
    },
    {
      "cell_type": "markdown",
      "source": [
        "### complaint type decision tree model"
      ],
      "metadata": {
        "id": "2W_Lumf56nbP"
      }
    },
    {
      "cell_type": "code",
      "source": [
        "dt1 = DecisionTreeClassifier() \n",
        "\n",
        "dt1_accuracy=[]\n",
        "dt1_precision=[]\n",
        "dt1_recall=[]\n",
        "dt1_f1=[]\n",
        "\n",
        "for i in range(25):\n",
        "\n",
        "  #create a training set \n",
        "  dt1.fit(x1_train, y1_train)\n",
        "  y_pred= dt1.predict(x1_test)\n",
        "\n",
        "  acc=accuracy_score(y1_test,y_pred)\n",
        "  dt1_accuracy.append(acc)\n",
        "\n",
        "  rec=recall_score(y1_test,y_pred)\n",
        "  dt1_recall.append(rec)\n",
        "\n",
        "  pre=precision_score(y1_test,y_pred)\n",
        "  dt1_precision.append(pre)\n",
        "\n",
        "  f1=f1_score(y1_test,y_pred)\n",
        "  dt1_f1.append(f1)\n",
        "\n",
        "print('decision_tree1 accuracy:', sum(dt1_accuracy)/len(dt1_accuracy)) \n",
        "print('decision_tree1 precision:',sum(dt1_precision)/len(dt1_precision))\n",
        "print('decision_tree1 reccall:',sum(dt1_recall)/len(dt1_recall))\n",
        "print('decision_tree1 f1:',sum(dt1_f1)/len(dt1_f1))"
      ],
      "metadata": {
        "colab": {
          "base_uri": "https://localhost:8080/"
        },
        "id": "c3-tZ_jxi8vC",
        "outputId": "7596ff0f-d2eb-4a4b-b852-fc5312e03fbd"
      },
      "execution_count": 37,
      "outputs": [
        {
          "output_type": "stream",
          "name": "stdout",
          "text": [
            "decision_tree1 accuracy: 0.9932159624413147\n",
            "decision_tree1 precision: 0.9952223972576462\n",
            "decision_tree1 reccall: 0.9958954650269027\n",
            "decision_tree1 f1: 0.9955587783726014\n"
          ]
        }
      ]
    },
    {
      "cell_type": "markdown",
      "source": [
        "### product decision tree model"
      ],
      "metadata": {
        "id": "CcIFxczX6pVZ"
      }
    },
    {
      "cell_type": "code",
      "source": [
        "dt2 = DecisionTreeClassifier()\n",
        "\n",
        "dt2_accuracy=[]\n",
        "dt2_precision=[]\n",
        "dt2_recall=[]\n",
        "dt2_f1=[]\n",
        "\n",
        "for i in range(25):\n",
        "  # create the testing data\n",
        "  dt2.fit(x2_train, y2_train)\n",
        "  y_pred= dt2.predict(x2_test)\n",
        "\n",
        "  acc=accuracy_score(y2_test,y_pred)\n",
        "  dt2_accuracy.append(acc)\n",
        "\n",
        "  rec=recall_score(y2_test,y_pred)\n",
        "  dt2_recall.append(rec)\n",
        "\n",
        "  pre=precision_score(y2_test,y_pred)\n",
        "  dt2_precision.append(pre)\n",
        "  \n",
        "  f1=f1_score(y2_test,y_pred)\n",
        "  dt2_f1.append(f1)\n",
        "\n",
        "print('decision_tree2 accuracy:', sum(dt2_accuracy)/len(dt2_accuracy)) \n",
        "print('decision_tree2 precision:',sum(dt2_precision)/len(dt2_precision))\n",
        "print('decision_tree2 reccall:',sum(dt2_recall)/len(dt2_recall))\n",
        "print('decision_tree2 f1:',sum(dt2_f1)/len(dt2_f1))"
      ],
      "metadata": {
        "colab": {
          "base_uri": "https://localhost:8080/"
        },
        "id": "x5j905vF5nER",
        "outputId": "b8b25fc2-cfbc-4a89-92ef-c8a98b497dfa"
      },
      "execution_count": 38,
      "outputs": [
        {
          "output_type": "stream",
          "name": "stdout",
          "text": [
            "decision_tree2 accuracy: 0.9921596244131456\n",
            "decision_tree2 precision: 0.9816784993141522\n",
            "decision_tree2 reccall: 0.9915151515151516\n",
            "decision_tree2 f1: 0.986572032191268\n"
          ]
        }
      ]
    },
    {
      "cell_type": "markdown",
      "source": [
        "# **data visualization**"
      ],
      "metadata": {
        "id": "ObX3qrbyUGb1"
      }
    },
    {
      "cell_type": "markdown",
      "source": [
        "### complaint type accuracy box plot"
      ],
      "metadata": {
        "id": "yIm01TuRJWbp"
      }
    },
    {
      "cell_type": "code",
      "source": [
        "# Creating dataset\n",
        "\n",
        "data1={'knn acc':knn1_acc,'lr acc':lr1_acc,'dt acc':dt1_accuracy,'nb acc':nb1_acc}\n",
        "\n",
        "acc_data1=pd.DataFrame(data1)\n",
        "boxplot = acc_data1.boxplot(column=['knn acc','lr acc','dt acc','nb acc']) \n",
        "\n",
        "# Adding title and labels\n",
        "plt.xlabel(\"Machine learning model\")\n",
        "plt.ylabel(\"Percentage\")\n",
        "plt.title(\"compliment type accuracy boxplot\")\n",
        "\n",
        "# show plot\n",
        "plt.show()"
      ],
      "metadata": {
        "colab": {
          "base_uri": "https://localhost:8080/",
          "height": 295
        },
        "id": "iY_lyXiPT3zA",
        "outputId": "060075cb-91f5-44c4-dab6-3617cc9d301e"
      },
      "execution_count": 39,
      "outputs": [
        {
          "output_type": "display_data",
          "data": {
            "text/plain": [
              "<Figure size 432x288 with 1 Axes>"
            ],
            "image/png": "[encoded data removed]"
          },
          "metadata": {
            "needs_background": "light"
          }
        }
      ]
    },
    {
      "cell_type": "markdown",
      "source": [
        "### product type accuracy box plot"
      ],
      "metadata": {
        "id": "eWXuiKZFJcd3"
      }
    },
    {
      "cell_type": "code",
      "source": [
        "# Creating dataset\n",
        "\n",
        "data2={'knn acc':knn2_acc,'lr acc':lr2_acc,'dt acc':dt2_accuracy,'nb acc':nb2_acc}\n",
        "\n",
        "acc_data2=pd.DataFrame(data2)\n",
        "boxplot = acc_data2.boxplot(column=['knn acc','lr acc','dt acc','nb acc']) \n",
        "\n",
        "# Adding title and labels\n",
        "plt.xlabel(\"Machine learning model\")\n",
        "plt.ylabel(\"Percentage\")\n",
        "plt.title(\"product type accuracy boxplot\")\n",
        "\n",
        "# show plot\n",
        "plt.show()"
      ],
      "metadata": {
        "colab": {
          "base_uri": "https://localhost:8080/",
          "height": 295
        },
        "id": "joRc-hkaU5pt",
        "outputId": "5090eef0-cbd0-415d-cce2-5c5fdd573fba"
      },
      "execution_count": 40,
      "outputs": [
        {
          "output_type": "display_data",
          "data": {
            "text/plain": [
              "<Figure size 432x288 with 1 Axes>"
            ],
            "image/png": "[encoded data removed]"
          },
          "metadata": {
            "needs_background": "light"
          }
        }
      ]
    },
    {
      "cell_type": "markdown",
      "source": [
        "### complaint type precision box plot"
      ],
      "metadata": {
        "id": "jOdsROHpJfdl"
      }
    },
    {
      "cell_type": "code",
      "source": [
        "# Creating dataset\n",
        "\n",
        "data1={'knn pre':knn1_pre,'lr pre':lr1_pre,'dt pre':dt1_precision,'nb pre':nb1_pre}\n",
        "\n",
        "pre_data1=pd.DataFrame(data1)\n",
        "boxplot = pre_data1.boxplot(column=['knn pre','lr pre','dt pre','nb pre']) \n",
        "\n",
        "# Adding title and labels\n",
        "plt.xlabel(\"Machine learning model\")\n",
        "plt.ylabel(\"Percentage\")\n",
        "plt.title(\"complaint type precision boxplot\")\n",
        "\n",
        "# show plot\n",
        "plt.show()"
      ],
      "metadata": {
        "colab": {
          "base_uri": "https://localhost:8080/",
          "height": 295
        },
        "id": "JPPP8X1xVxvl",
        "outputId": "0438a024-bb95-41d2-ecb2-58a9cd113703"
      },
      "execution_count": 41,
      "outputs": [
        {
          "output_type": "display_data",
          "data": {
            "text/plain": [
              "<Figure size 432x288 with 1 Axes>"
            ],
            "image/png": "[encoded data removed]"
          },
          "metadata": {
            "needs_background": "light"
          }
        }
      ]
    },
    {
      "cell_type": "markdown",
      "source": [
        "### product type precision box plot"
      ],
      "metadata": {
        "id": "fdl0h8rEJmtg"
      }
    },
    {
      "cell_type": "code",
      "source": [
        "# Creating dataset\n",
        "\n",
        "data2={'knn pre':knn2_pre,'lr pre':lr2_pre,'dt pre':dt2_precision,'nb pre':nb2_pre}\n",
        "\n",
        "pre_data2=pd.DataFrame(data2)\n",
        "boxplot = pre_data2.boxplot(column=['knn pre','lr pre','dt pre','nb pre']) \n",
        "\n",
        "# Adding title and labels\n",
        "plt.xlabel(\"Machine learning model\")\n",
        "plt.ylabel(\"Percentage\")\n",
        "plt.title(\"product type precision boxplot\")\n",
        "\n",
        "# show plot\n",
        "plt.show()"
      ],
      "metadata": {
        "colab": {
          "base_uri": "https://localhost:8080/",
          "height": 295
        },
        "id": "AQ1O1_UeVKy3",
        "outputId": "59122d25-bd09-4937-d750-7e96d211eb23"
      },
      "execution_count": 42,
      "outputs": [
        {
          "output_type": "display_data",
          "data": {
            "text/plain": [
              "<Figure size 432x288 with 1 Axes>"
            ],
            "image/png": "[encoded data removed]"
          },
          "metadata": {
            "needs_background": "light"
          }
        }
      ]
    },
    {
      "cell_type": "markdown",
      "source": [
        "### complaint type recall box plot"
      ],
      "metadata": {
        "id": "NE_CT-9RJp2S"
      }
    },
    {
      "cell_type": "code",
      "source": [
        "# Creating dataset\n",
        "\n",
        "data1={'knn rec':knn1_rec,'lr rec':lr1_rec,'dt rec':dt1_recall,'nb rec':nb1_rec}\n",
        "rec_data1=pd.DataFrame(data1)\n",
        "boxplot = rec_data1.boxplot(column=['knn rec','lr rec','dt rec','nb rec'])\n",
        "\n",
        "# Adding title and labels\n",
        "plt.xlabel(\"Machine learning model\")\n",
        "plt.ylabel(\"Percentage\")\n",
        "plt.title(\"complaint type recall boxplot\")\n",
        "\n",
        "# show plot\n",
        "plt.show()"
      ],
      "metadata": {
        "colab": {
          "base_uri": "https://localhost:8080/",
          "height": 295
        },
        "id": "EjCsdlRIWKXI",
        "outputId": "81a70201-f1fb-4261-f279-db8a89c3f9e2"
      },
      "execution_count": 43,
      "outputs": [
        {
          "output_type": "display_data",
          "data": {
            "text/plain": [
              "<Figure size 432x288 with 1 Axes>"
            ],
            "image/png": "[encoded data removed]"
          },
          "metadata": {
            "needs_background": "light"
          }
        }
      ]
    },
    {
      "cell_type": "markdown",
      "source": [
        "### product type recall box plot"
      ],
      "metadata": {
        "id": "_BA50FC8JtW9"
      }
    },
    {
      "cell_type": "code",
      "source": [
        "# Creating dataset\n",
        "\n",
        "data2={'knn rec':knn2_rec,'lr rec':lr2_rec,'dt rec':dt2_recall,'nb rec':nb2_rec}\n",
        "rec_data2=pd.DataFrame(data2)\n",
        "boxplot = rec_data2.boxplot(column=['knn rec','lr rec','dt rec','nb rec'])\n",
        "\n",
        "# Adding title and labels\n",
        "plt.xlabel(\"Machine learning model\")\n",
        "plt.ylabel(\"Percentage\")\n",
        "plt.title(\"product type recall boxplot\")\n",
        "\n",
        "# show plot\n",
        "plt.show()"
      ],
      "metadata": {
        "colab": {
          "base_uri": "https://localhost:8080/",
          "height": 295
        },
        "id": "YWnyYWuuWMxY",
        "outputId": "22615624-dcda-4be6-fc72-949cf059cd38"
      },
      "execution_count": 44,
      "outputs": [
        {
          "output_type": "display_data",
          "data": {
            "text/plain": [
              "<Figure size 432x288 with 1 Axes>"
            ],
            "image/png": "[encoded data removed]"
          },
          "metadata": {
            "needs_background": "light"
          }
        }
      ]
    },
    {
      "cell_type": "markdown",
      "source": [
        "### complaint type f1 score box plot"
      ],
      "metadata": {
        "id": "9ktC5q9TJvmT"
      }
    },
    {
      "cell_type": "code",
      "source": [
        "# Creating dataset\n",
        "\n",
        "data1={'knn f1':knn1_f1,'lr f1':lr1_f1,'dt f1':dt1_f1,'nb f1':nb1_f1}\n",
        "acc_data1=pd.DataFrame(data1)\n",
        "boxplot = acc_data1.boxplot(column=['knn f1','lr f1','dt f1','nb f1'])\n",
        "\n",
        "# Adding title and labels\n",
        "plt.xlabel(\"Machine learning model\")\n",
        "plt.ylabel(\"Percentage\")\n",
        "plt.title(\"complaint type f1 score boxplot\")\n",
        "\n",
        "# show plot\n",
        "plt.show()"
      ],
      "metadata": {
        "colab": {
          "base_uri": "https://localhost:8080/",
          "height": 295
        },
        "id": "BUlNH_NlV8Or",
        "outputId": "34c62e4b-ba89-4e4c-8eb2-ea2a4168f999"
      },
      "execution_count": 45,
      "outputs": [
        {
          "output_type": "display_data",
          "data": {
            "text/plain": [
              "<Figure size 432x288 with 1 Axes>"
            ],
            "image/png": "[encoded data removed]"
          },
          "metadata": {
            "needs_background": "light"
          }
        }
      ]
    },
    {
      "cell_type": "markdown",
      "source": [
        "### product type f1 score box plot"
      ],
      "metadata": {
        "id": "In74RHhiKCrG"
      }
    },
    {
      "cell_type": "code",
      "source": [
        "data2={'knn f1':knn2_f1,'lr f1':lr2_f1,'dt f1':dt2_f1,'nb f1':nb2_f1}\n",
        "acc_data2=pd.DataFrame(data2)\n",
        "boxplot = acc_data2.boxplot(column=['knn f1','lr f1','dt f1','nb f1'])\n",
        "\n",
        "# Adding title and labels\n",
        "plt.xlabel(\"Machine learning model\")\n",
        "plt.ylabel(\"Percentage\")\n",
        "plt.title(\"product type f1 score boxplot\")\n",
        "\n",
        "# show plot\n",
        "plt.show()"
      ],
      "metadata": {
        "colab": {
          "base_uri": "https://localhost:8080/",
          "height": 295
        },
        "id": "llSriXqRWQP3",
        "outputId": "f4eb9e56-7611-45be-c709-a2c3abfacf67"
      },
      "execution_count": 46,
      "outputs": [
        {
          "output_type": "display_data",
          "data": {
            "text/plain": [
              "<Figure size 432x288 with 1 Axes>"
            ],
            "image/png": "[encoded data removed]"
          },
          "metadata": {
            "needs_background": "light"
          }
        }
      ]
    },
    {
      "cell_type": "markdown",
      "source": [
        "### complaint type bar chart"
      ],
      "metadata": {
        "id": "NeIMqncpKN1V"
      }
    },
    {
      "cell_type": "code",
      "source": [
        "#for knn\n",
        "knn1acc = sum(knn1_acc)/len(knn1_acc) *100\n",
        "knn1pre = sum(knn1_pre)/len(knn1_pre) *100\n",
        "knn1rec = sum(knn1_rec)/len(knn1_rec) *100\n",
        "knnf1 = sum(knn1_f1)/len(knn1_f1) *100\n",
        "\n",
        "# for lr\n",
        "lr1acc = sum(lr1_acc)/len(lr1_acc) *100\n",
        "lr1pre = sum(lr1_pre)/len(lr1_pre) *100\n",
        "lr1rec = sum(lr1_rec)/len(lr1_rec) *100\n",
        "lr1f1 = sum(lr1_f1)/len(lr1_f1) *100\n",
        "\n",
        "# for naive bayes\n",
        "nb1acc = sum(nb1_acc)/len(nb1_acc) *100\n",
        "nb1pre = sum(nb1_pre)/len(nb1_pre) *100\n",
        "nb1rec = sum(nb1_rec)/len(nb1_rec) *100\n",
        "nb1f1 = sum(nb1_f1)/len(nb1_f1) *100\n",
        "\n",
        "# for decision tree\n",
        "dt1acc = sum(dt1_accuracy)/len(dt1_accuracy) *100\n",
        "dt1pre = sum(dt1_precision)/len(dt1_precision) *100\n",
        "dt1rec = sum(dt1_recall)/len(dt1_recall) *100\n",
        "dt1f1 = sum(dt1_f1)/len(dt1_f1) *100\n",
        "\n",
        "\n",
        "machine_learning_model_name = ['kNN','DT','NB','LR']\n",
        "machine_learning_model_accuracy = [knn1acc,dt1acc,nb1acc,lr1acc]\n",
        "machine_learning_model_precision = [knn1pre,dt1pre,nb1pre,lr1pre]\n",
        "machine_learning_model_Recall = [knn1rec,dt1rec,nb1rec,lr1rec]\n",
        "machine_learning_model_F_measure = [knnf1,dt1f1,nb1f1,lr1f1]\n",
        "X_axis = np.arange(len(machine_learning_model_name ))\n",
        "  \n",
        "\n",
        "# creating the bar plot\n",
        "plt.bar(X_axis+0.1, machine_learning_model_accuracy, color ='pink',width = 0.2,edgecolor = 'black',label = 'accuracy')\n",
        "plt.bar(X_axis+0.3, machine_learning_model_precision, color ='yellow',width = 0.2,edgecolor = 'black',label = 'precision')\n",
        "plt.bar(X_axis + 0.5, machine_learning_model_Recall, color ='green',width = 0.2,edgecolor = 'black',label = 'Recall')\n",
        "plt.bar(X_axis + 0.7, machine_learning_model_F_measure, color ='blue',width = 0.2,edgecolor = 'black',label = 'F measure')\n",
        "plt.xticks(X_axis+0.2, machine_learning_model_name )\n",
        "plt.legend(bbox_to_anchor=(1, 1))\n",
        "\n",
        "\n",
        "plt.xlabel(\"Machine learning model\")\n",
        "plt.ylabel(\"Percentage\")\n",
        "plt.title(\"Summary of Results\")\n",
        "plt.show()"
      ],
      "metadata": {
        "colab": {
          "base_uri": "https://localhost:8080/",
          "height": 295
        },
        "id": "F59CKIs9LidX",
        "outputId": "36fa9e45-8cae-4c59-862c-0d3b3c2953dd"
      },
      "execution_count": 47,
      "outputs": [
        {
          "output_type": "display_data",
          "data": {
            "text/plain": [
              "<Figure size 432x288 with 1 Axes>"
            ],
            "image/png": "[encoded data removed]"
          },
          "metadata": {
            "needs_background": "light"
          }
        }
      ]
    },
    {
      "cell_type": "markdown",
      "source": [
        "### product type bar chart"
      ],
      "metadata": {
        "id": "pVt34MNnKQzW"
      }
    },
    {
      "cell_type": "code",
      "source": [
        "#for knn\n",
        "knn2acc = sum(knn2_acc)/len(knn2_acc) *100\n",
        "knn2pre = sum(knn2_pre)/len(knn2_pre) *100\n",
        "knn2rec = sum(knn2_rec)/len(knn2_rec) *100\n",
        "knn2f1 = sum(knn2_f1)/len(knn2_f1) *100\n",
        "\n",
        "# for lr\n",
        "lr2acc = sum(lr2_acc)/len(lr2_acc) *100\n",
        "lr2pre = sum(lr2_pre)/len(lr2_pre) *100\n",
        "lr2rec = sum(lr2_rec)/len(lr2_rec) *100\n",
        "lr2f1 = sum(lr2_f1)/len(lr2_f1) *100\n",
        "\n",
        "# for naive bayes\n",
        "nb2acc = sum(nb2_acc)/len(nb2_acc) *100\n",
        "nb2pre = sum(nb2_pre)/len(nb2_pre) *100\n",
        "nb2rec = sum(nb2_rec)/len(nb2_rec) *100\n",
        "nb2f1 = sum(nb2_f1)/len(nb2_f1) *100\n",
        "\n",
        "# for decision tree\n",
        "dt2acc = sum(dt2_accuracy)/len(dt2_accuracy) *100\n",
        "dt2pre = sum(dt2_precision)/len(dt2_precision) *100\n",
        "dt2rec = sum(dt2_recall)/len(dt2_recall) *100\n",
        "dt2f1 = sum(dt2_f1)/len(dt2_f1) *100\n",
        "\n",
        "\n",
        "machine_learning_model_name = ['kNN','DT','NB','LR']\n",
        "machine_learning_model_accuracy = [knn2acc,dt2acc,nb2acc,lr2acc]\n",
        "machine_learning_model_precision = [knn2pre,dt2pre,nb2pre,lr2pre]\n",
        "machine_learning_model_Recall = [knn2rec,dt2rec,nb2rec,lr2rec]\n",
        "machine_learning_model_F_measure = [knn2f1,dt2f1,nb2f1,lr2f1]\n",
        "X_axis = np.arange(len(machine_learning_model_name ))\n",
        "  \n",
        "\n",
        "# creating the bar plot\n",
        "plt.bar(X_axis+0.1, machine_learning_model_accuracy, color ='pink',width = 0.2,edgecolor = 'black',label = 'accuracy')\n",
        "plt.bar(X_axis+0.3, machine_learning_model_precision, color ='yellow',width = 0.2,edgecolor = 'black',label = 'precision')\n",
        "plt.bar(X_axis + 0.5, machine_learning_model_Recall, color ='green',width = 0.2,edgecolor = 'black',label = 'Recall')\n",
        "plt.bar(X_axis + 0.7, machine_learning_model_F_measure, color ='blue',width = 0.2,edgecolor = 'black',label = 'F measure')\n",
        "plt.xticks(X_axis+0.2, machine_learning_model_name )\n",
        "plt.legend(bbox_to_anchor=(1, 1))\n",
        "\n",
        "\n",
        "plt.xlabel(\"Machine learning model\")\n",
        "plt.ylabel(\"Percentage\")\n",
        "plt.title(\"Summary of Results\")\n",
        "plt.show()"
      ],
      "metadata": {
        "id": "apfRwUTzWRnl",
        "colab": {
          "base_uri": "https://localhost:8080/",
          "height": 295
        },
        "outputId": "90b230e9-9c97-45b3-f407-a9437a11044c"
      },
      "execution_count": 48,
      "outputs": [
        {
          "output_type": "display_data",
          "data": {
            "text/plain": [
              "<Figure size 432x288 with 1 Axes>"
            ],
            "image/png": "[encoded data removed]"
          },
          "metadata": {
            "needs_background": "light"
          }
        }
      ]
    },
    {
      "cell_type": "markdown",
      "source": [
        "### complaint type radar chart"
      ],
      "metadata": {
        "id": "F77MNXlnKF7x"
      }
    },
    {
      "cell_type": "code",
      "source": [
        "# for complaint type\n",
        "\n",
        "#for knn\n",
        "#the values are from the bar chart\n",
        "knn = [knn1acc, knn1pre, knn1rec, knnf1]\n",
        "\n",
        "# for lr\n",
        "#the values are from the bar chart\n",
        "lr = [lr1acc, lr1pre, lr1rec, lr1f1]\n",
        "\n",
        "# for naive bayes\n",
        "#the values are from the bar chart\n",
        "nb = [nb1acc, nb1pre, nb1rec, nb1f1]\n",
        "\n",
        "# for decision tree\n",
        "#the values are from the bar chart\n",
        "dt = [dt1acc, dt1pre, dt1rec, dt1f1]\n",
        "\n",
        "# the categories\n",
        "\n",
        "categories = ['Accuracy','Precision','Recall','F1 Score']\n",
        "\n",
        "#Matplotlib uses the angles in radians for preparing polar plots. We can obtain the angles using linespace function of numpy as below.\n",
        "angles=np.linspace(0,2*np.pi,len(categories), endpoint=False)\n",
        "\n",
        "#add the first angle at the end of the array to completely describe the circle.\n",
        "angles=np.concatenate((angles,[angles[0]]))\n",
        "\n",
        "#Append the first value for all other arrays/lists used for visualization to maintain length consistency\n",
        "categories.append(categories[0])\n",
        "knn.append(knn[0])\n",
        "dt.append(dt[0])\n",
        "lr.append(lr[0])\n",
        "nb.append(nb[0])\n",
        "\n",
        "fig=plt.figure(figsize=(10,10))\n",
        "ax=fig.add_subplot(111, polar=True)\n",
        "\n",
        "#knn Plot\n",
        "ax.plot(angles,knn, '+-', color='g', linewidth=1, label='knn')\n",
        "ax.fill(angles, knn, alpha=0.15, color='g')\n",
        "\n",
        "#dt Plot\n",
        "ax.plot(angles,dt, 'o-', color='black', linewidth=4, label='DT')\n",
        "#ax.fill(angles, dt, alpha=0.25, color='#0ff5ee')\n",
        "\n",
        "#lr Plot\n",
        "ax.plot(angles,lr, 'D-', color='yellow', linewidth=2.5, label='lr')\n",
        "#ax.fill(angles, lr, alpha=0.25, color='#d775ff')\n",
        "\n",
        "#nb Plot\n",
        "ax.plot(angles,nb, '*-', color='red', linewidth=1, label='nb')\n",
        "#ax.fill(angles, nb, alpha=0.25, color='#CCCCFF')\n",
        "\n",
        "ax.set_title('Complaint type model prediction percentages',y=1.08)\n",
        "\n",
        "ax.set_thetagrids(angles * 180/np.pi, categories)\n",
        "plt.grid(True)\n",
        "plt.tight_layout()\n",
        "plt.legend()\n",
        "plt.show()"
      ],
      "metadata": {
        "id": "zs9qPAIzYah9",
        "colab": {
          "base_uri": "https://localhost:8080/",
          "height": 735
        },
        "outputId": "2a2f0604-9ba3-4446-995d-4af8405acc61"
      },
      "execution_count": 49,
      "outputs": [
        {
          "output_type": "display_data",
          "data": {
            "text/plain": [
              "<Figure size 720x720 with 1 Axes>"
            ],
            "image/png": "[encoded data removed]"
          },
          "metadata": {
            "needs_background": "light"
          }
        }
      ]
    },
    {
      "cell_type": "markdown",
      "source": [
        "### product type radar chart"
      ],
      "metadata": {
        "id": "HQdrwDI8KJqJ"
      }
    },
    {
      "cell_type": "code",
      "source": [
        "# for product type\n",
        "\n",
        "#for knn\n",
        "#the values are from the bar chart\n",
        "knn = [knn2acc, knn2pre, knn2rec, knn2f1]\n",
        "\n",
        "# for lr\n",
        "#the values are from the bar chart\n",
        "lr = [lr2acc, lr2pre, lr2rec, lr2f1]\n",
        "\n",
        "# for naive bayes\n",
        "#the values are from the bar chart\n",
        "nb = [nb2acc, nb2pre, nb2rec, nb2f1]\n",
        "\n",
        "# for decision tree\n",
        "#the values are from the bar chart\n",
        "dt = [dt2acc, dt2pre, dt2rec, dt2f1]\n",
        "\n",
        "# the categories\n",
        "\n",
        "categories = ['Accuracy','Precision','Recall','F1 Score']\n",
        "\n",
        "#Matplotlib uses the angles in radians for preparing polar plots. We can obtain the angles using linespace function of numpy as below.\n",
        "angles=np.linspace(0,2*np.pi,len(categories), endpoint=False)\n",
        "\n",
        "#add the first angle at the end of the array to completely describe the circle.\n",
        "angles=np.concatenate((angles,[angles[0]]))\n",
        "\n",
        "#Append the first value for all other arrays/lists used for visualization to maintain length consistency\n",
        "categories.append(categories[0])\n",
        "knn.append(knn[0])\n",
        "dt.append(dt[0])\n",
        "lr.append(lr[0])\n",
        "nb.append(nb[0])\n",
        "\n",
        "fig=plt.figure(figsize=(10,10))\n",
        "ax=fig.add_subplot(111, polar=True)\n",
        "\n",
        "#knn Plot\n",
        "ax.plot(angles,knn, '+-', color='g', linewidth=1, label='knn')\n",
        "#ax.fill(angles, knn, alpha=0.15, color='g')\n",
        "\n",
        "#dt Plot\n",
        "ax.plot(angles,dt, 'o-', color='black', linewidth=1, label='DT')\n",
        "#ax.fill(angles, dt, alpha=0.25, color='#0ff5ee')\n",
        "\n",
        "#lr Plot\n",
        "ax.plot(angles,lr, 'D-', color='yellow', linewidth=1, label='lr')\n",
        "#ax.fill(angles, lr, alpha=0.25, color='#d775ff')\n",
        "\n",
        "#nb Plot\n",
        "ax.plot(angles,nb, '*-', color='red', linewidth=1, label='nb')\n",
        "#ax.fill(angles, nb, alpha=0.25, color='#CCCCFF')\n",
        "\n",
        "\n",
        "ax.set_thetagrids(angles * 180/np.pi, categories)\n",
        "plt.grid(True)\n",
        "plt.tight_layout()\n",
        "plt.legend()\n",
        "plt.show()"
      ],
      "metadata": {
        "id": "2wG_9lcDXGmM",
        "colab": {
          "base_uri": "https://localhost:8080/",
          "height": 716
        },
        "outputId": "0265d94f-7162-4da6-e3c8-f6d3f8969914"
      },
      "execution_count": 50,
      "outputs": [
        {
          "output_type": "display_data",
          "data": {
            "text/plain": [
              "<Figure size 720x720 with 1 Axes>"
            ],
            "image/png": "[encoded data removed]"
          },
          "metadata": {
            "needs_background": "light"
          }
        }
      ]
    }
  ]
}